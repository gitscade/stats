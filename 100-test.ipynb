{
 "cells": [
  {
   "cell_type": "code",
   "execution_count": 4,
   "id": "8220b403-391c-4ec8-805f-1f815a75e0eb",
   "metadata": {
    "tags": []
   },
   "outputs": [],
   "source": [
    "import numpy as np\n",
    "import os"
   ]
  },
  {
   "cell_type": "code",
   "execution_count": 15,
   "id": "f10280b8-f5da-4348-8b35-378ebab57b72",
   "metadata": {
    "tags": []
   },
   "outputs": [
    {
     "name": "stdout",
     "output_type": "stream",
     "text": [
      "C:\\Users\\motionlab_3080\\Desktop\\projects\\stats\\test\n"
     ]
    }
   ],
   "source": [
    "a = np.zeros((21,3)) +3\n",
    "b = np.ones((21,3))\n",
    "\n",
    "c = []\n",
    "c.append(a)\n",
    "c.append(b)\n",
    "\n",
    "path = os.path.join(os.getcwd(),'test')\n",
    "print(path)\n",
    "np.save(path, c)"
   ]
  },
  {
   "cell_type": "code",
   "execution_count": 16,
   "id": "6778c8af-8612-40a4-be25-20988c6e1460",
   "metadata": {
    "tags": []
   },
   "outputs": [
    {
     "name": "stdout",
     "output_type": "stream",
     "text": [
      "[[[3. 3. 3.]\n",
      "  [3. 3. 3.]\n",
      "  [3. 3. 3.]\n",
      "  [3. 3. 3.]\n",
      "  [3. 3. 3.]\n",
      "  [3. 3. 3.]\n",
      "  [3. 3. 3.]\n",
      "  [3. 3. 3.]\n",
      "  [3. 3. 3.]\n",
      "  [3. 3. 3.]\n",
      "  [3. 3. 3.]\n",
      "  [3. 3. 3.]\n",
      "  [3. 3. 3.]\n",
      "  [3. 3. 3.]\n",
      "  [3. 3. 3.]\n",
      "  [3. 3. 3.]\n",
      "  [3. 3. 3.]\n",
      "  [3. 3. 3.]\n",
      "  [3. 3. 3.]\n",
      "  [3. 3. 3.]\n",
      "  [3. 3. 3.]]\n",
      "\n",
      " [[1. 1. 1.]\n",
      "  [1. 1. 1.]\n",
      "  [1. 1. 1.]\n",
      "  [1. 1. 1.]\n",
      "  [1. 1. 1.]\n",
      "  [1. 1. 1.]\n",
      "  [1. 1. 1.]\n",
      "  [1. 1. 1.]\n",
      "  [1. 1. 1.]\n",
      "  [1. 1. 1.]\n",
      "  [1. 1. 1.]\n",
      "  [1. 1. 1.]\n",
      "  [1. 1. 1.]\n",
      "  [1. 1. 1.]\n",
      "  [1. 1. 1.]\n",
      "  [1. 1. 1.]\n",
      "  [1. 1. 1.]\n",
      "  [1. 1. 1.]\n",
      "  [1. 1. 1.]\n",
      "  [1. 1. 1.]\n",
      "  [1. 1. 1.]]]\n"
     ]
    }
   ],
   "source": [
    "d = np.load(path + \".npy\")\n",
    "print(d)"
   ]
  },
  {
   "cell_type": "code",
   "execution_count": null,
   "id": "13183d26-ae78-4ace-8393-05adb78c6f6b",
   "metadata": {},
   "outputs": [],
   "source": []
  }
 ],
 "metadata": {
  "kernelspec": {
   "display_name": "Python 3 (ipykernel)",
   "language": "python",
   "name": "python3"
  },
  "language_info": {
   "codemirror_mode": {
    "name": "ipython",
    "version": 3
   },
   "file_extension": ".py",
   "mimetype": "text/x-python",
   "name": "python",
   "nbconvert_exporter": "python",
   "pygments_lexer": "ipython3",
   "version": "3.9.16"
  }
 },
 "nbformat": 4,
 "nbformat_minor": 5
}
