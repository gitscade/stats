{
 "cells": [
  {
   "cell_type": "code",
   "execution_count": 6,
   "id": "6f9a416d-8502-407e-9bab-dae9ba70678f",
   "metadata": {
    "tags": []
   },
   "outputs": [],
   "source": [
    "import os, csv, pickle, gzip, torch\n",
    "import numpy as np\n",
    "import ruptures as rpt\n",
    "import seaborn as sns\n",
    "import pandas as pd\n",
    "from scipy.signal import savgol_filter\n",
    "\n",
    "import matplotlib.pyplot as plt\n",
    "from matplotlib.text import Text\n",
    "from matplotlib import cm\n",
    "from matplotlib.animation import FuncAnimation\n",
    "from matplotlib.animation import PillowWriter\n",
    "from matplotlib.widgets import Button"
   ]
  },
  {
   "cell_type": "code",
   "execution_count": 7,
   "id": "060c73f7-73b5-4d74-a714-f48f14d25c7c",
   "metadata": {
    "tags": []
   },
   "outputs": [
    {
     "name": "stdout",
     "output_type": "stream",
     "text": [
      "open gzip\n"
     ]
    }
   ],
   "source": [
    "def read_gzip(path):    \n",
    "    # All VERSIONs should match (pickle, python, pandas)\n",
    "    output = []\n",
    "    assert os.path.exists(path), 'ReadGzip Assertion: path is null: {0}'.format(path)\n",
    "    with gzip.open(path, 'rb') as file:\n",
    "        print(\"open gzip\")\n",
    "        output = pickle.load(file)     \n",
    "    return output\n",
    "\n",
    "\n",
    "#==========LOAD================================\n",
    "spath = \"data/data_feature/sorted-params.csv\"\n",
    "sfile = open(spath, 'r', encoding='utf-8')\n",
    "sfile = list(csv.reader(sfile))\n",
    "\n",
    "# ver2 file makes vector feature velocity to hold (t) and (t-1)value instead of simple subtraction that is useless\n",
    "# file_name = \"0919-f18r16ver2\"\n",
    "file_name = \"1017-f18r16ver3\"\n",
    "fpath = \"data/data_feature/\" + file_name + \".gz\"\n",
    "ffile = read_gzip(fpath)\n",
    "\n",
    "dfpath = \"data/data_feature/0216-df.csv\"\n",
    "dffile = pd.read_csv(dfpath, na_values=\" NaN\").dropna(how='all', axis=1)\n",
    "dffile = dffile[['sub_idx','file_idx','length', 'is_exclude', 'h','v','d','x','y','z']]\n",
    "# print(dffile.head)\n",
    "\n",
    "\n",
    "\"\"\"\n",
    "dffile: idx: 0-15: uniform setup\n",
    "dffile: idx: 16-23: nonuniform setup\n",
    "\"\"\"\n",
    "params_df = dffile[['h','v','d']]\n",
    "params_tensor = torch.tensor(params_df.values, dtype=torch.float32)\n",
    "PARAMS = params_tensor.reshape(24, 144, 3)\n",
    "\n",
    "\n"
   ]
  },
  {
   "cell_type": "code",
   "execution_count": 8,
   "id": "ee5d5b7a-aee0-46d1-aebe-93a3448aff8c",
   "metadata": {
    "tags": []
   },
   "outputs": [],
   "source": [
    "def PlotTrimFiles(inputList, argList, titlename='default', isSave=False):\n",
    "    '''\n",
    "    plot 2D list of abs sum of columns\n",
    "    get interactive trimList and return it\n",
    "    can also apply savgol filter\n",
    "    return: 3 List of breakPoints, minPoints, TrimPoints\n",
    "    '''\n",
    "    breakPointList =[]\n",
    "    minIndexList =[]    \n",
    "    StartFrameList = []\n",
    "    EndFrameList = []\n",
    "    DelFileList = []\n",
    "\n",
    "    # filePath = os.path.join(os.getcwd(), 'Data', 'png', titlename) \n",
    "    # try:\n",
    "    #     os.makedirs(filePath, exist_ok=True)\n",
    "    # except:\n",
    "    #     None\n",
    "\n",
    "    for fileIdx in range(len(inputList)):\n",
    "        arr = inputList[fileIdx]\n",
    "        if argList is not None:\n",
    "            arr = arr[:, argList] #\n",
    "        frames = arr.shape[0]\n",
    "        fig, ax = plt.subplots()\n",
    "        x = np.arange(frames)\n",
    "        y = np.sum(np.abs(arr.reshape(arr.shape[0], -1)), axis=1) #sum all elements\n",
    "        y = savgol_filter(y, 21, 3)\n",
    "        \n",
    "\n",
    "        # find breakpoints in plot\n",
    "        algo = rpt.Pelt(model=\"rbf\").fit(y)\n",
    "        breakPoints = algo.predict(pen=10)\n",
    "        breakPointList.append(breakPoints)\n",
    "\n",
    "\n",
    "        # for each breakpoint, find local min\n",
    "        localMinXList =[]\n",
    "        localMinYList = []        \n",
    "        for idx in range(len(breakPoints)-1):\n",
    "            values = y[breakPoints[idx]: breakPoints[idx+1]]\n",
    "            minIndex = np.argmin(values) + breakPoints[idx]\n",
    "            localMinXList.append(minIndex)\n",
    "            localMinYList.append(y[minIndex])\n",
    "            plt.text(minIndex, y[minIndex], '_' + str(minIndex),  size=15)   \n",
    "        localMinXList = np.array(localMinXList)\n",
    "        minIndexList.append(localMinXList)\n",
    "\n",
    "\n",
    "        # Plot (Marker, exclude label) to fill list\n",
    "        title = \"file-sum: \" + str(fileIdx)\n",
    "        ylabel = 'abs-sum'\n",
    "        ax.plot(x, y, linewidth=1, label=ylabel, color='b')\n",
    "        ax.scatter(localMinXList,  localMinYList, 100, picker=True)\n",
    "        ax.set_xlabel('Click to Exclude', picker=True, bbox=dict(facecolor='red'))\n",
    "        plt.title(titlename + '_' + title)        \n",
    "        plt.grid()\n",
    "        plt.legend()  \n",
    "        \n",
    "        # pick (scatter, or exclude text)\n",
    "        def onPick(event):\n",
    "            if isinstance(event.artist, Text):\n",
    "                text = event.artist #'PickEvent' object has no attribute 'ind'\n",
    "                print(\"exclude file: \", fileIdx, text.get_text())\n",
    "                EndFrameList.append(-1)\n",
    "                plt.close()\n",
    "            else:\n",
    "                index = event.ind\n",
    "                print(\"(file, index, finalFrameIdx): \", fileIdx, index, localMinXList[index])\n",
    "                EndFrameList.append(localMinXList[index][0])\n",
    "                plt.close()\n",
    "\n",
    "        # 'pick_event' picks index for clicked artist in canvas\n",
    "        fig.canvas.mpl_connect('pick_event', onPick)    \n",
    "        plt.show()\n",
    "        plt.close() # close twice to avoid error\n",
    "\n",
    "    return EndFrameList"
   ]
  },
  {
   "cell_type": "code",
   "execution_count": null,
   "id": "8a21d140-acfa-4678-b60c-6cb5d8214d0c",
   "metadata": {},
   "outputs": [],
   "source": [
    "velTs = fClass.listFeaturesVelTs #[f][frame,feature,16]    \n",
    "fClass.l_trim_idx = fvis.PlotTrimFiles(velTs, l_v, titlename='practice-velTs', isSave=False)"
   ]
  }
 ],
 "metadata": {
  "kernelspec": {
   "display_name": "Python 3 (ipykernel)",
   "language": "python",
   "name": "python3"
  },
  "language_info": {
   "codemirror_mode": {
    "name": "ipython",
    "version": 3
   },
   "file_extension": ".py",
   "mimetype": "text/x-python",
   "name": "python",
   "nbconvert_exporter": "python",
   "pygments_lexer": "ipython3",
   "version": "3.9.16"
  }
 },
 "nbformat": 4,
 "nbformat_minor": 5
}
