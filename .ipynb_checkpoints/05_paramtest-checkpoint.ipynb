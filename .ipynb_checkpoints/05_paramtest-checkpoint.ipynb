{
 "cells": [
  {
   "cell_type": "code",
   "execution_count": 1,
   "id": "3e193ed8-521a-43f9-8fbb-c6f7f7fc7fda",
   "metadata": {
    "tags": []
   },
   "outputs": [],
   "source": [
    "import matplotlib.pyplot as plt\n",
    "import seaborn as sns\n",
    "import numpy as np\n",
    "import pandas as pd\n",
    "import os, pickle\n",
    "\n",
    "from mpl_toolkits.mplot3d import Axes3D\n",
    "from matplotlib.colors import ListedColormap"
   ]
  },
  {
   "cell_type": "code",
   "execution_count": 19,
   "id": "5fad665f-c965-473b-a634-1be966999a93",
   "metadata": {
    "tags": []
   },
   "outputs": [
    {
     "name": "stdout",
     "output_type": "stream",
     "text": [
      "<bound method NDFrame.head of        Unnamed: 0  sub_idx  file_idx  is_exclude          h          v  \\\n",
      "0               0        9         0           0 -30.000000 -20.000000   \n",
      "1               1        9         0           0 -30.000000 -20.000000   \n",
      "2               2        9         0           0 -30.000000 -20.000000   \n",
      "3               3        9         0           0 -30.000000 -20.000000   \n",
      "4               4        9         0           0 -30.000000 -20.000000   \n",
      "...           ...      ...       ...         ...        ...        ...   \n",
      "16146       16146       23       142           0  24.112133 -14.015582   \n",
      "16147       16147       23       142           0  24.112133 -14.015582   \n",
      "16148       16148       23       142           0  24.112133 -14.015582   \n",
      "16149       16149       23       142           0  24.112133 -14.015582   \n",
      "16150       16150       23       142           0  24.112133 -14.015582   \n",
      "\n",
      "              d         x         y         z  true_distance  \n",
      "0      3.300000 -1.550493 -0.977454  2.685532       3.251389  \n",
      "1      3.300000 -1.550493 -0.977454  2.685532       3.251389  \n",
      "2      3.300000 -1.550493 -0.977454  2.685532       3.251389  \n",
      "3      3.300000 -1.550493 -0.977454  2.685532       3.251389  \n",
      "4      3.300000 -1.550493 -0.977454  2.685532       3.251389  \n",
      "...         ...       ...       ...       ...            ...  \n",
      "16146  3.207976  1.271520 -0.709137  2.840903       3.192236  \n",
      "16147  3.207976  1.271520 -0.709137  2.840903       3.192236  \n",
      "16148  3.207976  1.271520 -0.709137  2.840903       3.192236  \n",
      "16149  3.207976  1.271520 -0.709137  2.840903       3.192236  \n",
      "16150  3.207976  1.271520 -0.709137  2.840903       3.192236  \n",
      "\n",
      "[16151 rows x 11 columns]>\n",
      "   index  Unnamed: 0  sub_idx  file_idx  is_exclude     h     v    d  \\\n",
      "0      0           0        9         0           0 -30.0 -20.0  3.3   \n",
      "1     27          27        9         1           0  30.0 -20.0  2.5   \n",
      "2     57          57        9         3           0   0.0   0.0  3.3   \n",
      "3     85          85        9         4           0 -30.0  20.0  1.7   \n",
      "4    123         123        9         5           0   0.0 -20.0  1.7   \n",
      "\n",
      "          x         y         z  win_idx  win_num  \n",
      "0 -1.550493 -0.977454  2.685532        0       27  \n",
      "1  1.174616 -0.740495  2.034494        0       30  \n",
      "2  0.000000  0.000000  3.300000        0       28  \n",
      "3 -0.798739  0.503537  1.383456        0       38  \n",
      "4  0.000000 -0.581434  1.597477        0       29  \n"
     ]
    }
   ],
   "source": []
  },
  {
   "cell_type": "markdown",
   "id": "eccf1bcf-a5ac-48e2-8e26-668b8fb064a0",
   "metadata": {},
   "source": [
    "### Metadata for Sub9 Only"
   ]
  },
  {
   "cell_type": "code",
   "execution_count": 24,
   "id": "475f4ac9-7781-4ea9-94de-235e27b427f3",
   "metadata": {
    "tags": []
   },
   "outputs": [
    {
     "name": "stdout",
     "output_type": "stream",
     "text": [
      "   index  Unnamed: 0  sub_idx  file_idx  is_exclude     h     v    d  \\\n",
      "0      0           0        9         0           0 -30.0 -20.0  3.3   \n",
      "1     27          27        9         1           0  30.0 -20.0  2.5   \n",
      "2     57          57        9         3           0   0.0   0.0  3.3   \n",
      "3     85          85        9         4           0 -30.0  20.0  1.7   \n",
      "4    123         123        9         5           0   0.0 -20.0  1.7   \n",
      "\n",
      "          x         y         z  win_idx  win_num  total_win_num  \n",
      "0 -1.550493 -0.977454  2.685532        0       27             47  \n",
      "1  1.174616 -0.740495  2.034494        0       30             50  \n",
      "2  0.000000  0.000000  3.300000        0       28             48  \n",
      "3 -0.798739  0.503537  1.383456        0       38             58  \n",
      "4  0.000000 -0.581434  1.597477        0       29             49  \n",
      "M/STD:  51.03496503496503 5.594782009891491\n"
     ]
    }
   ],
   "source": [
    "df = pd.read_csv(\"data/model1/param_test.csv\",na_values=\" NaN\")\n",
    "df_s9 = df.loc[df.sub_idx==9]\n",
    "df_s9 = df_s9.loc[df_s9.win_idx==0].reset_index()\n",
    "# print(file.head)\n",
    "# print(df_s9.head())\n",
    "\n",
    "df_s9['total_win_num'] = df_s9.win_num + 20\n",
    "# print(df_s9.head())\n",
    "\n",
    "avg_seq_len= df_s9.win_num.mean()\n",
    "avg_total_seq_len = df_s9.total_win_num.mean()\n",
    "avg_total_std = df_s9.total_win_num.std()\n",
    "\n",
    "print(\"SUB9 /M /STD: \", avg_total_seq_len, avg_total_std)\n",
    "#31 & 51 respectiblyn (m=1.7s, std=0.19s) for pointing sequence for subject 9)"
   ]
  },
  {
   "cell_type": "code",
   "execution_count": 25,
   "id": "971cbef1-cd9a-43e6-8153-c32b1cd9fa5a",
   "metadata": {
    "tags": []
   },
   "outputs": [
    {
     "name": "stdout",
     "output_type": "stream",
     "text": [
      "0\n",
      "1\n",
      "2\n",
      "3\n",
      "4\n",
      "5\n",
      "6\n",
      "7\n",
      "8\n",
      "9\n"
     ]
    }
   ],
   "source": [
    "for idx in range(10):\n",
    "    print(idx)"
   ]
  },
  {
   "cell_type": "code",
   "execution_count": null,
   "id": "bbba372b-e341-4a61-95ab-de444a72a163",
   "metadata": {},
   "outputs": [],
   "source": []
  }
 ],
 "metadata": {
  "kernelspec": {
   "display_name": "Python 3 (ipykernel)",
   "language": "python",
   "name": "python3"
  },
  "language_info": {
   "codemirror_mode": {
    "name": "ipython",
    "version": 3
   },
   "file_extension": ".py",
   "mimetype": "text/x-python",
   "name": "python",
   "nbconvert_exporter": "python",
   "pygments_lexer": "ipython3",
   "version": "3.9.16"
  }
 },
 "nbformat": 4,
 "nbformat_minor": 5
}
