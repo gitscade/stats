{
 "cells": [
  {
   "cell_type": "code",
   "execution_count": 1,
   "id": "d5097f80-3b7d-4f80-a4aa-2d11d66d4085",
   "metadata": {
    "tags": []
   },
   "outputs": [],
   "source": [
    "import os, csv, pickle, gzip, torch\n",
    "\n",
    "import torch\n",
    "import matplotlib.pyplot as plt\n",
    "import seaborn as sns\n",
    "import numpy as np\n",
    "import pandas as pd\n",
    "from tqdm import tqdm\n",
    "\n",
    "from matplotlib.animation import FuncAnimation\n",
    "from matplotlib.animation import PillowWriter\n",
    "from mpl_toolkits.mplot3d import Axes3D\n",
    "from matplotlib.colors import ListedColormap\n",
    "import matplotlib.cm as cm\n",
    "from matplotlib.collections import LineCollection"
   ]
  },
  {
   "cell_type": "markdown",
   "id": "cee4fa04-1edc-4438-8bd9-02b0c9a53935",
   "metadata": {
    "tags": []
   },
   "source": [
    "### Read Files"
   ]
  },
  {
   "cell_type": "code",
   "execution_count": 2,
   "id": "bc88220a-23db-495b-b8c7-f8cb4ab4cc31",
   "metadata": {
    "tags": []
   },
   "outputs": [
    {
     "name": "stdout",
     "output_type": "stream",
     "text": [
      "open gzip\n"
     ]
    }
   ],
   "source": [
    "def read_gzip(path):    \n",
    "    # All VERSIONs should match (pickle, python, pandas)\n",
    "    output = []\n",
    "    assert os.path.exists(path), 'ReadGzip Assertion: path is null: {0}'.format(path)\n",
    "    with gzip.open(path, 'rb') as file:\n",
    "        print(\"open gzip\")\n",
    "        output = pickle.load(file)     \n",
    "    return output\n",
    "\n",
    "#=======================================================================================\n",
    "# features(ffile):   return [trimX, trimY, trimAnimTs, trimGTPos, trimHmdTs, trimHmd1Ts, trimEyeTs, self.l_trim_idx]\n",
    "# sorted_params(sfile):  (row=subject) (column=file_num)\n",
    "\n",
    "spath = \"data/data_feature/sorted-params.csv\"\n",
    "sfile = open(spath, 'r', encoding='utf-8')\n",
    "sfile = list(csv.reader(sfile))\n",
    "\n",
    "file_name = \"0814-f18\"\n",
    "fpath = \"data/data_feature/\" + file_name + \".gz\"\n",
    "ffile = read_gzip(fpath)"
   ]
  },
  {
   "cell_type": "markdown",
   "id": "ffbe063c-24bd-41c8-acc7-79c7ee4c6a61",
   "metadata": {},
   "source": [
    "### Func: conversions"
   ]
  },
  {
   "cell_type": "code",
   "execution_count": 3,
   "id": "3829881d-17fd-43ec-84b3-9aacf1b4a44b",
   "metadata": {
    "tags": []
   },
   "outputs": [],
   "source": [
    "# pos_to_param\n",
    "# param_to_hmd1_pos\n",
    "# hmd_pos_to_hmd1_pos\n",
    "# hmd_pos_to_eye_pose\n",
    "\n",
    "\n",
    "def pos_to_param(input):   \n",
    "    '''\n",
    "    input: true spherical position\n",
    "    output: true rectilinear param\n",
    "    ''' \n",
    "    l_output = []\n",
    "    for idx, pos in enumerate(input):\n",
    "        x, y, z = pos[0], pos[1], pos[2]\n",
    "        hor = np.arctan(-x/z) * 180 / np.pi\n",
    "        ver = np.arctan(y/z) * 180 / np.pi\n",
    "        dist = np.sqrt(x*x + y*y + z*z)\n",
    "        param = torch.tensor([hor, ver, dist], dtype=torch.float32)\n",
    "        l_output.append(param)\n",
    "    l_output = torch.stack(l_output)\n",
    "    return l_output      \n",
    "\n",
    "\n",
    "def param_to_hmd1_pos(relParams, hmd_tensor, hmd_1st_tensor):\n",
    "    '''\n",
    "    > INPUT: relParams(h,v,d), hmd_tensor(TF), hmd_tensor1(TF)\n",
    "    > TRUE SPHERICAL Y SETUP, UNITY -X SETUP\n",
    "    > Perform relParams -> relTensors\n",
    "    > Perform (A) T (A)^-1\n",
    "    TENSOR LIST FOR SINGLE FRAME SEQ\n",
    "    input: e.g.[2200, 3], e.g. [2200, 4, 4]\n",
    "    return: e.g. [2200, 3]\n",
    "    '''\n",
    "    l_output= []\n",
    "    for frame, (param, hmd, hmd_1st) in enumerate(zip(relParams, hmd_tensor, hmd_1st_tensor)):\n",
    "        # 1. change param to ts\n",
    "        h, v, d = param[0], param[1], param[2]\n",
    "        H = h * torch.pi / 180\n",
    "        V = v * torch.pi / 180\n",
    "        x = -(d) * torch.sin(H) * torch.cos(V)\n",
    "        y = (d) * torch.cos(H) * torch.sin(V)   \n",
    "        z = (d) * torch.cos(H) * torch.cos(V)         \n",
    "        t = torch.eye(4, dtype=torch.float32)\n",
    "        t[:3, 3] = torch.tensor([x,y,z], dtype=torch.float32)\n",
    "\n",
    "        # 2. We wanted only relative position not global position in this case\n",
    "        t = torch.matmul(hmd, t)\n",
    "        t = torch.matmul(torch.linalg.inv(hmd_1st), t)\n",
    "\n",
    "        l_output.append(t[:3, 3])\n",
    "    l_output = torch.stack(l_output)\n",
    "\n",
    "    return l_output\n",
    "\n",
    "def hmd_pos_to_hmd1_pos(GTPos, hmd_1st_tensor):\n",
    "    '''\n",
    "    >TRUE SPHERICAL Y SETUP, UNITY -X SETUP\n",
    "    TENSOR LIST FOR SINGLE FRAME SEQ\n",
    "    input: e.g.[2200, 3], [2200, 4, 4]\n",
    "    return: e.g. [2200, 3]\n",
    "    '''\n",
    "    l_output= []\n",
    "    for frame, (gt_pos, hmd_1st) in enumerate(zip(GTPos, hmd_1st_tensor)):\n",
    "        t_op = torch.eye(4)\n",
    "        x,y,z = gt_pos[0], gt_pos[1], gt_pos[2]\n",
    "        t_op[:3, 3] = torch.tensor([x,y,z], dtype=torch.float32)\n",
    "        t_oh = hmd_1st \n",
    "        # t_hp = t_ho * t_op = inv(t_oh) * t_op\n",
    "        t = torch.matmul(torch.linalg.inv(t_oh), t_op)\n",
    "        l_output.append(t[:3, 3])\n",
    "    l_output = torch.stack(l_output)\n",
    "\n",
    "    return l_output\n",
    "\n",
    "\n",
    "def hmd_pos_to_eye_pose(relParams, hmd_tensor, hmd1_tensor, eye_tensor, eye1_tensor):\n",
    "    \"\"\"\n",
    "    INPUT: relParams(h,v,d), TF(hmd), TF(eye)\n",
    "    FUNC1: make hmdeye1\n",
    "    FUNC1: relParams -> relTransforms\n",
    "    FUNC2: make hmdeye & hmdeye1\n",
    "    FUNC3: plot eye transform trajectory\n",
    "    \"\"\"\n",
    "    l_output_c = []\n",
    "    l_output_l = []\n",
    "    l_output_r = []\n",
    "    \n",
    "    for frame, (param, hmd, hmd1, eye, eye1) in enumerate(zip(relParams, hmd_tensor, hmd1_tensor, eye_tensor, eye1_tensor)):\n",
    "        \n",
    "        # 1. change param to ts\n",
    "        h, v, d = param[0], param[1], param[2]\n",
    "        H = h * torch.pi / 180\n",
    "        V = v * torch.pi / 180\n",
    "        x = -(d) * torch.sin(H) * torch.cos(V)\n",
    "        y = (d) * torch.cos(H) * torch.sin(V)   \n",
    "        z = (d) * torch.cos(H) * torch.cos(V)         \n",
    "        t = torch.eye(4, dtype=torch.float32)\n",
    "        t[:3, 3] = torch.tensor([x,y,z], dtype=torch.float32)    \n",
    "\n",
    "        # 2. Make HMDEYE & HMDEYE1\n",
    "        eye_c = eye[0]\n",
    "        eye_l = eye[1]\n",
    "        eye_r = eye[2]\n",
    "        eye_c1 = eye1[0]\n",
    "        eye_l1 = eye1[1]\n",
    "        eye_r1 = eye1[2]\n",
    "        \n",
    "        # print(\"hmd, eye_c\", hmd.shape, eye_c.shape, eye_l.shape, eye_r.shape)\n",
    "        hmdeye_c = torch.matmul(hmd, eye_c)\n",
    "        hmdeye_c1 = torch.matmul(hmd1, eye_c1)\n",
    "        hmdeye_l = torch.matmul(hmd, eye_l)\n",
    "        hmdeye_l1 = torch.matmul(hmd1, eye_l1)\n",
    "        hmdeye_r = torch.matmul(hmd, eye_r)\n",
    "        hmdeye_r1 = torch.matmul(hmd1, eye_r1)        \n",
    "        \n",
    "        # 3. We wanted only relative position not global position in this case\n",
    "        t_c = torch.matmul(hmdeye_c, t)\n",
    "        t_c = torch.matmul(torch.linalg.inv(hmdeye_c1), t_c)\n",
    "        t_l = torch.matmul(hmdeye_l, t)\n",
    "        t_l = torch.matmul(torch.linalg.inv(hmdeye_l1), t_l)\n",
    "        t_r = torch.matmul(hmdeye_r, t)\n",
    "        t_r = torch.matmul(torch.linalg.inv(hmdeye_r1), t_r)\n",
    "\n",
    "        l_output_c.append(t_c[:3, 3])\n",
    "        l_output_l.append(t_l[:3, 3])\n",
    "        l_output_r.append(t_r[:3, 3])\n",
    "        \n",
    "    l_output_c = torch.stack(l_output_c)\n",
    "    l_output_l = torch.stack(l_output_l)\n",
    "    l_output_r = torch.stack(l_output_r)\n",
    "\n",
    "    return l_output_c, l_output_l, l_output_r\n",
    "    \n",
    "    "
   ]
  },
  {
   "cell_type": "markdown",
   "id": "5eb27253-82f7-4042-bbae-9cf84646b079",
   "metadata": {},
   "source": [
    "### Func: draw_features_by_file"
   ]
  },
  {
   "cell_type": "code",
   "execution_count": 30,
   "id": "a66b5ace-12f4-4cf6-b879-b8a58f1bc8c0",
   "metadata": {
    "tags": []
   },
   "outputs": [],
   "source": [
    "def draw_features_by_file(file_name, save_name, ffile, sfile):\n",
    "    # GT position is not showing the pattern\n",
    "    fig, (ax) = plt.subplots(1,1)\n",
    "    fig.set_size_inches(8,8)\n",
    "    plt.title(\"All\")\n",
    "    for fIdx in tqdm(range(144)):        \n",
    "        colors = cm.rainbow(np.linspace(0, 1, 24))\n",
    "        # fig, (ax) = plt.subplots(1,1)\n",
    "        # fig.set_size_inches(8,8)\n",
    "        # plt.title('file_num: '+str(fIdx+1)+ \"/144\")\n",
    "\n",
    "        for sIdx in range(16):\n",
    "            pIdx = int(sfile[sIdx][fIdx]) #pointer idx\n",
    "            trimX,trimY,_,trimGTPos, trimHmd,trimHmd1,trimEye,trimEye1,_ = ffile[sIdx]\n",
    "            # print(\"trimEye, trimEye1\", trimHmd[0].shape, trimEye[0].shape, trimEye1[0].shape)\n",
    "            # print(\"trimHmd, trimEye, trimEye1\", len(trimHmd), len(trimEye), len(trimEye1))\n",
    "\n",
    "            # ----seq mode & trim hmd,GT,Y------------            \n",
    "            end_idx = len(trimX[pIdx])-1\n",
    "            trimHmd = trimHmd[pIdx][:end_idx+1]     #ts\n",
    "            trimHmd1 = trimHmd1[pIdx][:end_idx+1]     #ts\n",
    "            trimEye = trimEye[pIdx][:end_idx+1]\n",
    "            trimEye1 = trimEye1[pIdx][:end_idx+1]\n",
    "            trimGTPos =trimGTPos[pIdx][:end_idx+1]   #pos\n",
    "            trimY = trimY[pIdx][:end_idx+1]         #rel_params\n",
    "\n",
    "            trimHmd = trimHmd[::5]  \n",
    "            trimHmd1 = trimHmd1[::5]\n",
    "            trimEye = trimEye[::5]\n",
    "            trimEye1 = trimEye1[::5]   \n",
    "            trimGTPos =trimGTPos[::5]  \n",
    "            trimY = trimY[::5]  \n",
    "            \n",
    "            #----------plot--------------------------------------\n",
    "            if len(trimX[pIdx]) == 0:\n",
    "                pos0 = torch.full((20, 3), -1)\n",
    "                pos1 = torch.full((20, 3), -1)\n",
    "                pos_eye_c = torch.full((20, 3), -1)\n",
    "                pos_eye_left = torch.full((20, 3), -1)\n",
    "                pos_eye_right = torch.full((20, 3), -1)\n",
    "            else:\n",
    "                pos0 = hmd_pos_to_hmd1_pos(trimGTPos, trimHmd1) #GT\n",
    "                pos1 = param_to_hmd1_pos(trimY, trimHmd1, trimHmd1) # \n",
    "                pos_eye_c, pos_eye_l, pos_eye_r = hmd_pos_to_eye_pose(trimY, trimHmd, trimHmd1, trimEye, trimEye1)\n",
    "\n",
    "\n",
    "            # pos0 = pos_to_param(pos0)\n",
    "            # pos1 = pos_to_param(pos1)\n",
    "            # pos_eye_c = pos_to_param(pos_eye_c)\n",
    "            # pos_eye_left = pos_to_param(pos_eye_left)\n",
    "            # pos_eye_right = pos_to_param(pos_eye_right)\n",
    "\n",
    "            x0, y0 = pos0[:,0], pos0[:,1]\n",
    "            # x1, y1 = pos1[:,0], pos1[:,1]\n",
    "            x_c, y_c = pos_eye_c[:,0], pos_eye_c[:,1]\n",
    "            # x_l, y_l = pos_eye_left[:,0], pos_eye_left[:,1]\n",
    "            # x_r, y_r = pos_eye_right[:,0], pos_eye_right[:,1]\n",
    "\n",
    "            color = np.array([colors[sIdx]])\n",
    "            ax.scatter(x0, y0, c='g', marker='d', label='gts', alpha=0.2)\n",
    "            # ax.scatter(x1, y1, c=color, marker='+', label='ydata', alpha=0.2)\n",
    "            # ax.scatter(x1[-1], y1[-1], c='r', marker='s', alpha=1)\n",
    "            ax.scatter(x_c, y_c, c=color, marker='.', label='comb', alpha=0.2)\n",
    "            # ax.scatter(x_l, y_l, c=color, marker='o', label='left', alpha=0.2)\n",
    "            # ax.scatter(x_r, y_r, c=color, marker='x', label='right', alpha=0.2)\n",
    "\n",
    "            pos1_text = 's' + str(sIdx+1) \n",
    "            # ax.text(x1[-1], y1[-1], pos1_text)\n",
    "            ax.set_xlabel('X (meter)')\n",
    "            ax.set_ylabel('Y (meter)')            \n",
    "            # ax.set_xlabel('H (degree)')\n",
    "            # ax.set_ylabel('V (degree)')\n",
    "\n",
    "        plt.xlim([-45,45])\n",
    "        plt.ylim([-45,45])\n",
    "        plt.xlim([-2,2])\n",
    "        plt.ylim([-2,2])\n",
    "\n",
    "        plt.grid(color = 'green', linestyle = '--', linewidth = 0.5)        \n",
    "\n",
    "        savename = \"f\" + str(fIdx+1)\n",
    "        # fig.savefig(savename)\n",
    "        #plt.show()        # plt.legend()\n",
    "    fig.savefig(savename)\n",
    " "
   ]
  },
  {
   "cell_type": "code",
   "execution_count": 31,
   "id": "2d0b29db-8f21-4b00-ac08-6c76b451745f",
   "metadata": {
    "collapsed": true,
    "jupyter": {
     "outputs_hidden": true
    },
    "tags": []
   },
   "outputs": [
    {
     "name": "stderr",
     "output_type": "stream",
     "text": [
      "  0%|                                                                                          | 0/144 [00:00<?, ?it/s]"
     ]
    },
    {
     "name": "stdout",
     "output_type": "stream",
     "text": [
      "trimEye, trimEye1 144 144 144\n",
      "trimEye, trimEye1 144 144 144\n",
      "trimEye, trimEye1 144 144 144\n",
      "trimEye, trimEye1 144 144 144\n",
      "trimEye, trimEye1 144 144 144\n",
      "trimEye, trimEye1 144 144 144\n",
      "trimEye, trimEye1 144 144 144\n",
      "trimEye, trimEye1 144 144 144\n",
      "trimEye, trimEye1 144 144 144\n",
      "trimEye, trimEye1 144 144 144\n"
     ]
    },
    {
     "name": "stderr",
     "output_type": "stream",
     "text": [
      "  1%|▌                                                                                 | 1/144 [00:00<00:54,  2.63it/s]"
     ]
    },
    {
     "name": "stdout",
     "output_type": "stream",
     "text": [
      "trimEye, trimEye1 144 144 144\n",
      "trimEye, trimEye1 144 144 144\n",
      "trimEye, trimEye1 144 144 144\n",
      "trimEye, trimEye1 144 144 144\n",
      "trimEye, trimEye1 144 144 144\n",
      "trimEye, trimEye1 144 144 144\n",
      "trimEye, trimEye1 144 144 144\n",
      "trimEye, trimEye1 144 144 144\n",
      "trimEye, trimEye1 144 144 144\n",
      "trimEye, trimEye1 144 144 144\n",
      "trimEye, trimEye1 144 144 144\n",
      "trimEye, trimEye1 144 144 144\n",
      "trimEye, trimEye1 144 144 144\n",
      "trimEye, trimEye1 144 144 144\n",
      "trimEye, trimEye1 144 144 144\n",
      "trimEye, trimEye1 144 144 144\n",
      "trimEye, trimEye1 144 144 144\n",
      "trimEye, trimEye1 144 144 144\n",
      "trimEye, trimEye1 144 144 144\n"
     ]
    },
    {
     "name": "stderr",
     "output_type": "stream",
     "text": [
      "  1%|█▏                                                                                | 2/144 [00:00<00:54,  2.62it/s]"
     ]
    },
    {
     "name": "stdout",
     "output_type": "stream",
     "text": [
      "trimEye, trimEye1 144 144 144\n",
      "trimEye, trimEye1 144 144 144\n",
      "trimEye, trimEye1 144 144 144\n",
      "trimEye, trimEye1 144 144 144\n",
      "trimEye, trimEye1 144 144 144\n",
      "trimEye, trimEye1 144 144 144\n",
      "trimEye, trimEye1 144 144 144\n",
      "trimEye, trimEye1 144 144 144\n",
      "trimEye, trimEye1 144 144 144\n",
      "trimEye, trimEye1 144 144 144\n",
      "trimEye, trimEye1 144 144 144\n",
      "trimEye, trimEye1 144 144 144\n",
      "trimEye, trimEye1 144 144 144\n",
      "trimEye, trimEye1 144 144 144\n",
      "trimEye, trimEye1 144 144 144\n",
      "trimEye, trimEye1 144 144 144\n",
      "trimEye, trimEye1 144 144 144\n"
     ]
    },
    {
     "name": "stderr",
     "output_type": "stream",
     "text": [
      "  2%|█▋                                                                                | 3/144 [00:01<00:58,  2.40it/s]"
     ]
    },
    {
     "name": "stdout",
     "output_type": "stream",
     "text": [
      "trimEye, trimEye1 144 144 144\n",
      "trimEye, trimEye1 144 144 144\n",
      "trimEye, trimEye1 144 144 144\n",
      "trimEye, trimEye1 144 144 144\n",
      "trimEye, trimEye1 144 144 144\n",
      "trimEye, trimEye1 144 144 144\n",
      "trimEye, trimEye1 144 144 144\n",
      "trimEye, trimEye1 144 144 144\n",
      "trimEye, trimEye1 144 144 144\n"
     ]
    },
    {
     "name": "stderr",
     "output_type": "stream",
     "text": [
      "  3%|██▎                                                                               | 4/144 [00:01<00:55,  2.51it/s]"
     ]
    },
    {
     "name": "stdout",
     "output_type": "stream",
     "text": [
      "trimEye, trimEye1 144 144 144\n",
      "trimEye, trimEye1 144 144 144\n",
      "trimEye, trimEye1 144 144 144\n",
      "trimEye, trimEye1 144 144 144\n",
      "trimEye, trimEye1 144 144 144\n",
      "trimEye, trimEye1 144 144 144\n",
      "trimEye, trimEye1 144 144 144\n",
      "trimEye, trimEye1 144 144 144\n",
      "trimEye, trimEye1 144 144 144\n",
      "trimEye, trimEye1 144 144 144\n",
      "trimEye, trimEye1 144 144 144\n",
      "trimEye, trimEye1 144 144 144\n",
      "trimEye, trimEye1 144 144 144\n",
      "trimEye, trimEye1 144 144 144\n",
      "trimEye, trimEye1 144 144 144\n",
      "trimEye, trimEye1 144 144 144\n",
      "trimEye, trimEye1 144 144 144\n"
     ]
    },
    {
     "name": "stderr",
     "output_type": "stream",
     "text": [
      "  3%|██▊                                                                               | 5/144 [00:01<00:54,  2.53it/s]"
     ]
    },
    {
     "name": "stdout",
     "output_type": "stream",
     "text": [
      "trimEye, trimEye1 144 144 144\n",
      "trimEye, trimEye1 144 144 144\n",
      "trimEye, trimEye1 144 144 144\n",
      "trimEye, trimEye1 144 144 144\n",
      "trimEye, trimEye1 144 144 144\n",
      "trimEye, trimEye1 144 144 144\n",
      "trimEye, trimEye1 144 144 144\n",
      "trimEye, trimEye1 144 144 144\n",
      "trimEye, trimEye1 144 144 144\n",
      "trimEye, trimEye1 144 144 144\n",
      "trimEye, trimEye1 144 144 144\n",
      "trimEye, trimEye1 144 144 144\n",
      "trimEye, trimEye1 144 144 144\n",
      "trimEye, trimEye1 144 144 144\n",
      "trimEye, trimEye1 144 144 144\n",
      "trimEye, trimEye1 144 144 144\n",
      "trimEye, trimEye1 144 144 144\n",
      "trimEye, trimEye1 144 144 144\n",
      "trimEye, trimEye1 144 144 144\n"
     ]
    },
    {
     "name": "stderr",
     "output_type": "stream",
     "text": [
      "  4%|███▍                                                                              | 6/144 [00:02<00:55,  2.48it/s]"
     ]
    },
    {
     "name": "stdout",
     "output_type": "stream",
     "text": [
      "trimEye, trimEye1 144 144 144\n",
      "trimEye, trimEye1 144 144 144\n",
      "trimEye, trimEye1 144 144 144\n",
      "trimEye, trimEye1 144 144 144\n",
      "trimEye, trimEye1 144 144 144\n",
      "trimEye, trimEye1 144 144 144\n",
      "trimEye, trimEye1 144 144 144\n",
      "trimEye, trimEye1 144 144 144\n",
      "trimEye, trimEye1 144 144 144\n",
      "trimEye, trimEye1 144 144 144\n",
      "trimEye, trimEye1 144 144 144\n",
      "trimEye, trimEye1 144 144 144\n",
      "trimEye, trimEye1 144 144 144\n",
      "trimEye, trimEye1 144 144 144\n",
      "trimEye, trimEye1 144 144 144\n",
      "trimEye, trimEye1 144 144 144\n",
      "trimEye, trimEye1 144 144 144\n",
      "trimEye, trimEye1 144 144 144\n",
      "trimEye, trimEye1 144 144 144\n"
     ]
    },
    {
     "name": "stderr",
     "output_type": "stream",
     "text": [
      "  5%|███▉                                                                              | 7/144 [00:02<00:54,  2.52it/s]"
     ]
    },
    {
     "name": "stdout",
     "output_type": "stream",
     "text": [
      "trimEye, trimEye1 144 144 144\n",
      "trimEye, trimEye1 144 144 144\n",
      "trimEye, trimEye1 144 144 144\n",
      "trimEye, trimEye1 144 144 144\n",
      "trimEye, trimEye1 144 144 144\n",
      "trimEye, trimEye1 144 144 144\n",
      "trimEye, trimEye1 144 144 144\n",
      "trimEye, trimEye1 144 144 144\n",
      "trimEye, trimEye1 144 144 144\n",
      "trimEye, trimEye1 144 144 144\n",
      "trimEye, trimEye1 144 144 144\n",
      "trimEye, trimEye1 144 144 144\n",
      "trimEye, trimEye1 144 144 144\n",
      "trimEye, trimEye1 144 144 144\n",
      "trimEye, trimEye1 144 144 144\n",
      "trimEye, trimEye1 144 144 144\n",
      "trimEye, trimEye1 144 144 144\n",
      "trimEye, trimEye1 144 144 144\n"
     ]
    },
    {
     "name": "stderr",
     "output_type": "stream",
     "text": [
      "  6%|████▌                                                                             | 8/144 [00:03<00:53,  2.55it/s]"
     ]
    },
    {
     "name": "stdout",
     "output_type": "stream",
     "text": [
      "trimEye, trimEye1 144 144 144\n",
      "trimEye, trimEye1 144 144 144\n",
      "trimEye, trimEye1 144 144 144\n",
      "trimEye, trimEye1 144 144 144\n",
      "trimEye, trimEye1 144 144 144\n",
      "trimEye, trimEye1 144 144 144\n",
      "trimEye, trimEye1 144 144 144\n",
      "trimEye, trimEye1 144 144 144\n",
      "trimEye, trimEye1 144 144 144\n",
      "trimEye, trimEye1 144 144 144\n"
     ]
    },
    {
     "name": "stderr",
     "output_type": "stream",
     "text": [
      "  6%|█████▏                                                                            | 9/144 [00:03<00:53,  2.53it/s]"
     ]
    },
    {
     "name": "stdout",
     "output_type": "stream",
     "text": [
      "trimEye, trimEye1 144 144 144\n",
      "trimEye, trimEye1 144 144 144\n",
      "trimEye, trimEye1 144 144 144\n",
      "trimEye, trimEye1 144 144 144\n",
      "trimEye, trimEye1 144 144 144\n",
      "trimEye, trimEye1 144 144 144\n",
      "trimEye, trimEye1 144 144 144\n",
      "trimEye, trimEye1 144 144 144\n",
      "trimEye, trimEye1 144 144 144\n",
      "trimEye, trimEye1 144 144 144\n",
      "trimEye, trimEye1 144 144 144\n",
      "trimEye, trimEye1 144 144 144\n",
      "trimEye, trimEye1 144 144 144\n",
      "trimEye, trimEye1 144 144 144\n",
      "trimEye, trimEye1 144 144 144\n",
      "trimEye, trimEye1 144 144 144\n",
      "trimEye, trimEye1 144 144 144\n"
     ]
    },
    {
     "name": "stderr",
     "output_type": "stream",
     "text": [
      "  7%|█████▋                                                                           | 10/144 [00:03<00:53,  2.48it/s]"
     ]
    },
    {
     "name": "stdout",
     "output_type": "stream",
     "text": [
      "trimEye, trimEye1 144 144 144\n",
      "trimEye, trimEye1 144 144 144\n",
      "trimEye, trimEye1 144 144 144\n",
      "trimEye, trimEye1 144 144 144\n",
      "trimEye, trimEye1 144 144 144\n",
      "trimEye, trimEye1 144 144 144\n",
      "trimEye, trimEye1 144 144 144\n",
      "trimEye, trimEye1 144 144 144\n",
      "trimEye, trimEye1 144 144 144\n",
      "trimEye, trimEye1 144 144 144\n",
      "trimEye, trimEye1 144 144 144\n",
      "trimEye, trimEye1 144 144 144\n",
      "trimEye, trimEye1 144 144 144\n",
      "trimEye, trimEye1 144 144 144\n",
      "trimEye, trimEye1 144 144 144\n",
      "trimEye, trimEye1 144 144 144\n",
      "trimEye, trimEye1 144 144 144\n"
     ]
    },
    {
     "name": "stderr",
     "output_type": "stream",
     "text": [
      "  8%|██████▏                                                                          | 11/144 [00:04<00:53,  2.47it/s]"
     ]
    },
    {
     "name": "stdout",
     "output_type": "stream",
     "text": [
      "trimEye, trimEye1 144 144 144\n",
      "trimEye, trimEye1 144 144 144\n",
      "trimEye, trimEye1 144 144 144\n",
      "trimEye, trimEye1 144 144 144\n",
      "trimEye, trimEye1 144 144 144\n",
      "trimEye, trimEye1 144 144 144\n",
      "trimEye, trimEye1 144 144 144\n",
      "trimEye, trimEye1 144 144 144\n",
      "trimEye, trimEye1 144 144 144\n",
      "trimEye, trimEye1 144 144 144\n",
      "trimEye, trimEye1 144 144 144\n",
      "trimEye, trimEye1 144 144 144\n",
      "trimEye, trimEye1 144 144 144\n",
      "trimEye, trimEye1 144 144 144\n",
      "trimEye, trimEye1 144 144 144\n",
      "trimEye, trimEye1 144 144 144\n"
     ]
    },
    {
     "name": "stderr",
     "output_type": "stream",
     "text": [
      "  8%|██████▊                                                                          | 12/144 [00:04<00:56,  2.34it/s]"
     ]
    },
    {
     "name": "stdout",
     "output_type": "stream",
     "text": [
      "trimEye, trimEye1 144 144 144\n",
      "trimEye, trimEye1 144 144 144\n",
      "trimEye, trimEye1 144 144 144\n",
      "trimEye, trimEye1 144 144 144\n",
      "trimEye, trimEye1 144 144 144\n",
      "trimEye, trimEye1 144 144 144\n",
      "trimEye, trimEye1 144 144 144\n",
      "trimEye, trimEye1 144 144 144\n",
      "trimEye, trimEye1 144 144 144\n",
      "trimEye, trimEye1 144 144 144\n",
      "trimEye, trimEye1 144 144 144\n",
      "trimEye, trimEye1 144 144 144\n",
      "trimEye, trimEye1 144 144 144\n",
      "trimEye, trimEye1 144 144 144\n",
      "trimEye, trimEye1 144 144 144\n",
      "trimEye, trimEye1 144 144 144\n",
      "trimEye, trimEye1 144 144 144\n"
     ]
    },
    {
     "name": "stderr",
     "output_type": "stream",
     "text": [
      "  9%|███████▎                                                                         | 13/144 [00:05<00:54,  2.40it/s]"
     ]
    },
    {
     "name": "stdout",
     "output_type": "stream",
     "text": [
      "trimEye, trimEye1 144 144 144\n",
      "trimEye, trimEye1 144 144 144\n",
      "trimEye, trimEye1 144 144 144\n",
      "trimEye, trimEye1 144 144 144\n",
      "trimEye, trimEye1 144 144 144\n",
      "trimEye, trimEye1 144 144 144\n",
      "trimEye, trimEye1 144 144 144\n",
      "trimEye, trimEye1 144 144 144\n",
      "trimEye, trimEye1 144 144 144\n",
      "trimEye, trimEye1 144 144 144\n",
      "trimEye, trimEye1 144 144 144\n",
      "trimEye, trimEye1 144 144 144\n",
      "trimEye, trimEye1 144 144 144\n",
      "trimEye, trimEye1 144 144 144\n",
      "trimEye, trimEye1 144 144 144\n",
      "trimEye, trimEye1 144 144 144\n",
      "trimEye, trimEye1 144 144 144\n"
     ]
    },
    {
     "name": "stderr",
     "output_type": "stream",
     "text": [
      " 10%|███████▉                                                                         | 14/144 [00:05<00:53,  2.44it/s]"
     ]
    },
    {
     "name": "stdout",
     "output_type": "stream",
     "text": [
      "trimEye, trimEye1 144 144 144\n",
      "trimEye, trimEye1 144 144 144\n",
      "trimEye, trimEye1 144 144 144\n",
      "trimEye, trimEye1 144 144 144\n"
     ]
    },
    {
     "name": "stderr",
     "output_type": "stream",
     "text": [
      "\n"
     ]
    },
    {
     "ename": "KeyboardInterrupt",
     "evalue": "",
     "output_type": "error",
     "traceback": [
      "\u001b[1;31m---------------------------------------------------------------------------\u001b[0m",
      "\u001b[1;31mKeyboardInterrupt\u001b[0m                         Traceback (most recent call last)",
      "Cell \u001b[1;32mIn[31], line 2\u001b[0m\n\u001b[0;32m      1\u001b[0m \u001b[38;5;66;03m# draw_features_by_file(file_name, save_name, ffile, sfile)\u001b[39;00m\n\u001b[1;32m----> 2\u001b[0m \u001b[43mdraw_features_by_file\u001b[49m\u001b[43m(\u001b[49m\u001b[43mfile_name\u001b[49m\u001b[43m,\u001b[49m\u001b[43m \u001b[49m\u001b[38;5;124;43m\"\u001b[39;49m\u001b[38;5;124;43mtesttest\u001b[39;49m\u001b[38;5;124;43m\"\u001b[39;49m\u001b[43m,\u001b[49m\u001b[43m \u001b[49m\u001b[43mffile\u001b[49m\u001b[43m,\u001b[49m\u001b[43m \u001b[49m\u001b[43msfile\u001b[49m\u001b[43m)\u001b[49m\n",
      "Cell \u001b[1;32mIn[30], line 44\u001b[0m, in \u001b[0;36mdraw_features_by_file\u001b[1;34m(file_name, save_name, ffile, sfile)\u001b[0m\n\u001b[0;32m     42\u001b[0m     pos0 \u001b[38;5;241m=\u001b[39m hmd_pos_to_hmd1_pos(trimGTPos, trimHmd1) \u001b[38;5;66;03m#GT\u001b[39;00m\n\u001b[0;32m     43\u001b[0m     pos1 \u001b[38;5;241m=\u001b[39m param_to_hmd1_pos(trimY, trimHmd1, trimHmd1) \u001b[38;5;66;03m# \u001b[39;00m\n\u001b[1;32m---> 44\u001b[0m     pos_eye_c, pos_eye_l, pos_eye_r \u001b[38;5;241m=\u001b[39m \u001b[43mhmd_pos_to_eye_pose\u001b[49m\u001b[43m(\u001b[49m\u001b[43mtrimY\u001b[49m\u001b[43m,\u001b[49m\u001b[43m \u001b[49m\u001b[43mtrimHmd\u001b[49m\u001b[43m,\u001b[49m\u001b[43m \u001b[49m\u001b[43mtrimHmd1\u001b[49m\u001b[43m,\u001b[49m\u001b[43m \u001b[49m\u001b[43mtrimEye\u001b[49m\u001b[43m,\u001b[49m\u001b[43m \u001b[49m\u001b[43mtrimEye1\u001b[49m\u001b[43m)\u001b[49m\n\u001b[0;32m     47\u001b[0m \u001b[38;5;66;03m# pos0 = pos_to_param(pos0)\u001b[39;00m\n\u001b[0;32m     48\u001b[0m \u001b[38;5;66;03m# pos1 = pos_to_param(pos1)\u001b[39;00m\n\u001b[0;32m     49\u001b[0m \u001b[38;5;66;03m# pos_eye_c = pos_to_param(pos_eye_c)\u001b[39;00m\n\u001b[0;32m     50\u001b[0m \u001b[38;5;66;03m# pos_eye_left = pos_to_param(pos_eye_left)\u001b[39;00m\n\u001b[0;32m     51\u001b[0m \u001b[38;5;66;03m# pos_eye_right = pos_to_param(pos_eye_right)\u001b[39;00m\n\u001b[0;32m     53\u001b[0m x0, y0 \u001b[38;5;241m=\u001b[39m pos0[:,\u001b[38;5;241m0\u001b[39m], pos0[:,\u001b[38;5;241m1\u001b[39m]\n",
      "Cell \u001b[1;32mIn[3], line 98\u001b[0m, in \u001b[0;36mhmd_pos_to_eye_pose\u001b[1;34m(relParams, hmd_tensor, hmd1_tensor, eye_tensor, eye1_tensor)\u001b[0m\n\u001b[0;32m     96\u001b[0m z \u001b[38;5;241m=\u001b[39m (d) \u001b[38;5;241m*\u001b[39m torch\u001b[38;5;241m.\u001b[39mcos(H) \u001b[38;5;241m*\u001b[39m torch\u001b[38;5;241m.\u001b[39mcos(V)         \n\u001b[0;32m     97\u001b[0m t \u001b[38;5;241m=\u001b[39m torch\u001b[38;5;241m.\u001b[39meye(\u001b[38;5;241m4\u001b[39m, dtype\u001b[38;5;241m=\u001b[39mtorch\u001b[38;5;241m.\u001b[39mfloat32)\n\u001b[1;32m---> 98\u001b[0m t[:\u001b[38;5;241m3\u001b[39m, \u001b[38;5;241m3\u001b[39m] \u001b[38;5;241m=\u001b[39m torch\u001b[38;5;241m.\u001b[39mtensor([x,y,z], dtype\u001b[38;5;241m=\u001b[39mtorch\u001b[38;5;241m.\u001b[39mfloat32)    \n\u001b[0;32m    100\u001b[0m \u001b[38;5;66;03m# 2. Make HMDEYE & HMDEYE1\u001b[39;00m\n\u001b[0;32m    101\u001b[0m eye_c \u001b[38;5;241m=\u001b[39m eye[\u001b[38;5;241m0\u001b[39m]\n",
      "\u001b[1;31mKeyboardInterrupt\u001b[0m: "
     ]
    },
    {
     "data": {
      "image/png": "[encoded data removed]",
      "text/plain": [
       "<Figure size 800x800 with 1 Axes>"
      ]
     },
     "metadata": {},
     "output_type": "display_data"
    }
   ],
   "source": [
    "# draw_features_by_file(file_name, save_name, ffile, sfile)\n",
    "draw_features_by_file(file_name, \"testtest\", ffile, sfile)"
   ]
  },
  {
   "cell_type": "markdown",
   "id": "946bc50c-3067-4fe2-be1c-8adda8fd7522",
   "metadata": {},
   "source": [
    "### Func: draw_features_by_file"
   ]
  },
  {
   "cell_type": "code",
   "execution_count": 16,
   "id": "39625a22-5182-4381-b3bb-f4b229d6b720",
   "metadata": {
    "tags": []
   },
   "outputs": [],
   "source": [
    "def draw_features_by_subject(file_name, save_name, ffile, sfile):\n",
    "    # SET VARIABLES\n",
    "    final_subject= 24\n",
    "    \n",
    "    # Master Plot\n",
    "    fig, (ax) = plt.subplots(1,1)\n",
    "    colors = cm.rainbow(np.linspace(0, 1, 16)) # 16 subjects\n",
    "    colors = cm.rainbow(np.linspace(0, 1, 24)) # 24 subjects\n",
    "\n",
    "    plt.title(\"subject\")\n",
    "    \n",
    "    #SUBJECT LOOP\n",
    "    for sIdx in tqdm(range(final_subject)):\n",
    "        fig, (ax) = plt.subplots(1,1)\n",
    "        fig.set_size_inches(10,10)\n",
    "        fig.suptitle(\"subject: \" + str(sIdx))\n",
    "        print(colors[sIdx])\n",
    "        \n",
    "        # FILE LOOP\n",
    "        for fIdx in range(144):\n",
    "            pIdx = int(sfile[sIdx][fIdx]) #pointer idx\n",
    "            trimX,trimY,_,trimGTPos, trimHmd,trimHmd1,trimEye,trimEye1,_ = ffile[sIdx]\n",
    "            # print(\"trimHmd, trimEye, trimEye1\", len(trimHmd), len(trimEye), len(trimEye1))\n",
    "            # print(fIdx, len(trimHmd))\n",
    "            \n",
    "\n",
    "            # ----seq mode & trim hmd,GT,Y------------   \n",
    "            \n",
    "            \n",
    "            end_idx = len(trimX[pIdx])-1\n",
    "            t = np.arange(end_idx+1) \n",
    "            trimHmd = trimHmd[pIdx][:end_idx+1]\n",
    "            trimHmd1 = trimHmd1[pIdx][:end_idx+1]\n",
    "            trimEye = trimEye[pIdx][:end_idx+1]\n",
    "            trimEye1 = trimEye1[pIdx][:end_idx+1]\n",
    "            trimGTPos =trimGTPos[pIdx][:end_idx+1]   #pos\n",
    "            trimY = trimY[pIdx][:end_idx+1]         #rel_params\n",
    "\n",
    "            t = t[::5]\n",
    "            trimHmd = trimHmd[::5]  \n",
    "            trimHmd1 = trimHmd1[::5]\n",
    "            trimEye = trimEye[::5]\n",
    "            trimEye1 = trimEye1[::5]   \n",
    "            trimGTPos =trimGTPos[::5]  \n",
    "            trimY = trimY[::5]      \n",
    "    \n",
    "            #----------plot--------------------------------------\n",
    "            colors = cm.rainbow(np.linspace(0, 1, end_idx)) # 24 subjects\n",
    "        \n",
    "            if len(trimX[pIdx]) == 0:\n",
    "                pos0 = torch.full((20, 3), -1)\n",
    "                pos1 = torch.full((20, 3), -1)\n",
    "                pos_eye_c = torch.full((20, 3), -1)\n",
    "                pos_eye_left = torch.full((20, 3), -1)\n",
    "                pos_eye_right = torch.full((20, 3), -1)\n",
    "            else:\n",
    "                pos0 = hmd_pos_to_hmd1_pos(trimGTPos, trimHmd1) #GT\n",
    "                pos1 = param_to_hmd1_pos(trimY, trimHmd1, trimHmd1) # \n",
    "                pos_eye_c, pos_eye_l, pos_eye_r = hmd_pos_to_eye_pose(trimY, trimHmd, trimHmd1, trimEye, trimEye1)    \n",
    "    \n",
    "    \n",
    "            # pos0 = pos_to_param(pos0)\n",
    "            # pos1 = pos_to_param(pos1)\n",
    "            # pos_eye_c = pos_to_param(pos_eye_c)\n",
    "            # pos_eye_left = pos_to_param(pos_eye_left)\n",
    "            # pos_eye_right = pos_to_param(pos_eye_right)\n",
    "\n",
    "            x0, y0 = pos0[:,0], pos0[:,1]\n",
    "            # x1, y1 = pos1[:,0], pos1[:,1]\n",
    "            x_c, y_c = pos_eye_c[:,0], pos_eye_c[:,1]\n",
    "            # x_l, y_l = pos_eye_left[:,0], pos_eye_left[:,1]\n",
    "            # x_r, y_r = pos_eye_right[:,0], pos_eye_right[:,1]\n",
    "\n",
    "\n",
    "            ax.scatter(x0, y0, c='g', marker='d', label='gts', alpha=0.2)\n",
    "            # ax.scatter(x1, y1, c=color, marker='+', label='ydata', alpha=0.2)\n",
    "            # ax.scatter(x1[-1], y1[-1], c='r', marker='s', alpha=1)\n",
    "            # ax.scatter(x_c, y_c, c=t, cmap=cm.viridis, marker='.', label='comb', alpha=0.01)\n",
    "                        \n",
    "            alphas= np.linspace(0,1,end_idx)\n",
    "            ax.scatter(x_c, y_c, c='red', marker='o', label='comb', alpha=alphas)\n",
    "            # ax.scatter(x_l, y_l, c=color, marker='o', label='left', alpha=0.2)\n",
    "            # ax.scatter(x_r, y_r, c=color, marker='x', label='right', alpha=0.2)\n",
    "\n",
    "            pos1_text = 's' + str(sIdx+1) \n",
    "            # ax.text(x1[-1], y1[-1], pos1_text)\n",
    "            ax.set_xlabel('X (meter)')\n",
    "            ax.set_ylabel('Y (meter)')            \n",
    "            # ax.set_xlabel('H (degree)')\n",
    "            # ax.set_ylabel('V (degree)')    \n",
    "\n",
    "        # SUBJECT LOOP\n",
    "        plt.xlim([-45,45])\n",
    "        plt.ylim([-45,45])\n",
    "        plt.xlim([-2,2])\n",
    "        plt.ylim([-2,2])\n",
    "\n",
    "        plt.grid(color = 'green', linestyle = '--', linewidth = 0.5)        \n",
    "\n",
    "        savename = \"Subject-\" + str(sIdx+1)\n",
    "        fig.savefig(savename)\n",
    "        plt.close()\n",
    "        #plt.show()        # plt.legend()\n",
    "    # fig.savefig(savename)\n",
    " "
   ]
  },
  {
   "cell_type": "code",
   "execution_count": 17,
   "id": "bcbbbfc5-0577-49b9-8c8f-353fd9e5a3c3",
   "metadata": {
    "tags": []
   },
   "outputs": [
    {
     "name": "stderr",
     "output_type": "stream",
     "text": [
      "  0%|                                                                                           | 0/24 [00:00<?, ?it/s]"
     ]
    },
    {
     "name": "stdout",
     "output_type": "stream",
     "text": [
      "[0.5 0.  1.  1. ]\n"
     ]
    },
    {
     "name": "stderr",
     "output_type": "stream",
     "text": [
      "  4%|███▍                                                                               | 1/24 [00:04<01:36,  4.22s/it]"
     ]
    },
    {
     "name": "stdout",
     "output_type": "stream",
     "text": [
      "[0.49215686 0.01231966 0.99998103 1.        ]\n"
     ]
    },
    {
     "name": "stderr",
     "output_type": "stream",
     "text": [
      "  8%|██████▉                                                                            | 2/24 [00:08<01:32,  4.22s/it]"
     ]
    },
    {
     "name": "stdout",
     "output_type": "stream",
     "text": [
      "[0.48431373 0.02463745 0.99992411 1.        ]\n"
     ]
    },
    {
     "name": "stderr",
     "output_type": "stream",
     "text": [
      " 12%|██████████▍                                                                        | 3/24 [00:12<01:24,  4.01s/it]"
     ]
    },
    {
     "name": "stdout",
     "output_type": "stream",
     "text": [
      "[0.46078431 0.06156091 0.99952572 1.        ]\n"
     ]
    },
    {
     "name": "stderr",
     "output_type": "stream",
     "text": [
      " 17%|█████████████▊                                                                     | 4/24 [00:16<01:26,  4.31s/it]"
     ]
    },
    {
     "name": "stdout",
     "output_type": "stream",
     "text": [
      "[0.45294118 0.07385253 0.99931706 1.        ]\n"
     ]
    },
    {
     "name": "stderr",
     "output_type": "stream",
     "text": [
      " 21%|█████████████████▎                                                                 | 5/24 [00:20<01:19,  4.20s/it]"
     ]
    },
    {
     "name": "stdout",
     "output_type": "stream",
     "text": [
      "[0.45294118 0.07385253 0.99931706 1.        ]\n"
     ]
    },
    {
     "name": "stderr",
     "output_type": "stream",
     "text": [
      " 25%|████████████████████▊                                                              | 6/24 [00:24<01:11,  3.97s/it]"
     ]
    },
    {
     "name": "stdout",
     "output_type": "stream",
     "text": [
      "[0.39803922 0.15947579 0.99679532 1.        ]\n"
     ]
    },
    {
     "name": "stderr",
     "output_type": "stream",
     "text": [
      " 29%|████████████████████████▏                                                          | 7/24 [00:30<01:16,  4.50s/it]"
     ]
    },
    {
     "name": "stdout",
     "output_type": "stream",
     "text": [
      "[0.46862745 0.04925994 0.99969645 1.        ]\n"
     ]
    },
    {
     "name": "stderr",
     "output_type": "stream",
     "text": [
      " 33%|███████████████████████████▋                                                       | 8/24 [00:33<01:06,  4.15s/it]"
     ]
    },
    {
     "name": "stdout",
     "output_type": "stream",
     "text": [
      "[0.40588235 0.1473017  0.99726917 1.        ]\n"
     ]
    },
    {
     "name": "stderr",
     "output_type": "stream",
     "text": [
      " 38%|███████████████████████████████▏                                                   | 9/24 [00:36<00:58,  3.91s/it]"
     ]
    },
    {
     "name": "stdout",
     "output_type": "stream",
     "text": [
      "[0.36666667 0.20791169 0.9945219  1.        ]\n"
     ]
    },
    {
     "name": "stderr",
     "output_type": "stream",
     "text": [
      " 42%|██████████████████████████████████▏                                               | 10/24 [00:40<00:54,  3.92s/it]"
     ]
    },
    {
     "name": "stdout",
     "output_type": "stream",
     "text": [
      "[0.39803922 0.15947579 0.99679532 1.        ]\n"
     ]
    },
    {
     "name": "stderr",
     "output_type": "stream",
     "text": [
      " 46%|█████████████████████████████████████▌                                            | 11/24 [00:45<00:55,  4.23s/it]"
     ]
    },
    {
     "name": "stdout",
     "output_type": "stream",
     "text": [
      "[0.42941176 0.11065268 0.9984636  1.        ]\n"
     ]
    },
    {
     "name": "stderr",
     "output_type": "stream",
     "text": [
      " 50%|█████████████████████████████████████████                                         | 12/24 [00:49<00:47,  4.00s/it]"
     ]
    },
    {
     "name": "stdout",
     "output_type": "stream",
     "text": [
      "[0.36666667 0.20791169 0.9945219  1.        ]\n"
     ]
    },
    {
     "name": "stderr",
     "output_type": "stream",
     "text": [
      " 54%|████████████████████████████████████████████▍                                     | 13/24 [00:53<00:46,  4.20s/it]"
     ]
    },
    {
     "name": "stdout",
     "output_type": "stream",
     "text": [
      "[0.41372549 0.13510525 0.99770518 1.        ]\n"
     ]
    },
    {
     "name": "stderr",
     "output_type": "stream",
     "text": [
      " 58%|███████████████████████████████████████████████▊                                  | 14/24 [00:57<00:39,  3.99s/it]"
     ]
    },
    {
     "name": "stdout",
     "output_type": "stream",
     "text": [
      "[0.35882353 0.21994636 0.99385914 1.        ]\n"
     ]
    },
    {
     "name": "stderr",
     "output_type": "stream",
     "text": [
      " 62%|███████████████████████████████████████████████████▎                              | 15/24 [01:01<00:36,  4.11s/it]"
     ]
    },
    {
     "name": "stdout",
     "output_type": "stream",
     "text": [
      "[0.36666667 0.20791169 0.9945219  1.        ]\n"
     ]
    },
    {
     "name": "stderr",
     "output_type": "stream",
     "text": [
      " 67%|██████████████████████████████████████████████████████▋                           | 16/24 [01:04<00:30,  3.78s/it]"
     ]
    },
    {
     "name": "stdout",
     "output_type": "stream",
     "text": [
      "[0.27254902 0.34972651 0.98408634 1.        ]\n"
     ]
    },
    {
     "name": "stderr",
     "output_type": "stream",
     "text": [
      " 71%|██████████████████████████████████████████████████████████                        | 17/24 [01:08<00:26,  3.75s/it]"
     ]
    },
    {
     "name": "stdout",
     "output_type": "stream",
     "text": [
      "[0.27254902 0.34972651 0.98408634 1.        ]\n"
     ]
    },
    {
     "name": "stderr",
     "output_type": "stream",
     "text": [
      " 75%|█████████████████████████████████████████████████████████████▌                    | 18/24 [01:12<00:23,  3.90s/it]"
     ]
    },
    {
     "name": "stdout",
     "output_type": "stream",
     "text": [
      "[0.33529412 0.25584278 0.9916447  1.        ]\n"
     ]
    },
    {
     "name": "stderr",
     "output_type": "stream",
     "text": [
      " 79%|████████████████████████████████████████████████████████████████▉                 | 19/24 [01:16<00:19,  3.91s/it]"
     ]
    },
    {
     "name": "stdout",
     "output_type": "stream",
     "text": [
      "[0.28823529 0.32653871 0.98620075 1.        ]\n"
     ]
    },
    {
     "name": "stderr",
     "output_type": "stream",
     "text": [
      " 83%|████████████████████████████████████████████████████████████████████▎             | 20/24 [01:19<00:14,  3.64s/it]"
     ]
    },
    {
     "name": "stdout",
     "output_type": "stream",
     "text": [
      "[0.14705882 0.52643216 0.96182564 1.        ]\n"
     ]
    },
    {
     "name": "stderr",
     "output_type": "stream",
     "text": [
      " 88%|███████████████████████████████████████████████████████████████████████▊          | 21/24 [01:24<00:11,  3.95s/it]"
     ]
    },
    {
     "name": "stdout",
     "output_type": "stream",
     "text": [
      "[0.29607843 0.31486959 0.98720184 1.        ]\n"
     ]
    },
    {
     "name": "stderr",
     "output_type": "stream",
     "text": [
      " 92%|███████████████████████████████████████████████████████████████████████████▏      | 22/24 [01:28<00:08,  4.13s/it]"
     ]
    },
    {
     "name": "stdout",
     "output_type": "stream",
     "text": [
      "[0.24117647 0.39545121 0.97940977 1.        ]\n"
     ]
    },
    {
     "name": "stderr",
     "output_type": "stream",
     "text": [
      " 96%|██████████████████████████████████████████████████████████████████████████████▌   | 23/24 [01:32<00:04,  4.09s/it]"
     ]
    },
    {
     "name": "stdout",
     "output_type": "stream",
     "text": [
      "[0.24901961 0.38410575 0.98063477 1.        ]\n"
     ]
    },
    {
     "name": "stderr",
     "output_type": "stream",
     "text": [
      "100%|██████████████████████████████████████████████████████████████████████████████████| 24/24 [01:36<00:00,  4.03s/it]\n"
     ]
    },
    {
     "data": {
      "image/png": "[encoded data removed]",
      "text/plain": [
       "<Figure size 640x480 with 1 Axes>"
      ]
     },
     "metadata": {},
     "output_type": "display_data"
    }
   ],
   "source": [
    "draw_features_by_subject(file_name, \"ourtest\", ffile, sfile)"
   ]
  },
  {
   "cell_type": "markdown",
   "id": "eb5df289-62dd-4419-bb70-a79b5ab4285c",
   "metadata": {
    "tags": []
   },
   "source": [
    "### FUNC: 0.67sec buffer"
   ]
  },
  {
   "cell_type": "code",
   "execution_count": 22,
   "id": "1e6c0815-5f59-4261-89a7-83b9f63633d6",
   "metadata": {},
   "outputs": [],
   "source": [
    "def draw_features_by_subject_067(file_name, save_name, ffile, sfile):\n",
    "    # SET VARIABLES\n",
    "    final_subject= 24\n",
    "    \n",
    "    # Master Plot\n",
    "    fig, (ax) = plt.subplots(1,1)\n",
    "    colors = cm.rainbow(np.linspace(0, 1, 16)) # 16 subjects\n",
    "    colors = cm.rainbow(np.linspace(0, 1, 24)) # 24 subjects\n",
    "\n",
    "    plt.title(\"subject\")\n",
    "    \n",
    "    #SUBJECT LOOP\n",
    "    for sIdx in tqdm(range(final_subject)):\n",
    "        fig, (ax) = plt.subplots(1,1)\n",
    "        fig.set_size_inches(10,10)\n",
    "        fig.suptitle(\"subject: \" + str(sIdx))\n",
    "        print(colors[sIdx])\n",
    "        \n",
    "        # FILE LOOP\n",
    "        for fIdx in range(144):\n",
    "            pIdx = int(sfile[sIdx][fIdx]) #pointer idx\n",
    "            trimX,trimY,_,trimGTPos, trimHmd,trimHmd1,trimEye,trimEye1,_ = ffile[sIdx]\n",
    "            # print(\"trimHmd, trimEye, trimEye1\", len(trimHmd), len(trimEye), len(trimEye1))\n",
    "            # print(fIdx, len(trimHmd))\n",
    "            \n",
    "\n",
    "            # ----seq mode & trim hmd,GT,Y------------   \n",
    "            \n",
    "            \n",
    "            end_idx = len(trimX[pIdx])-1\n",
    "            t = np.arange(end_idx+1) \n",
    "            trimHmd = trimHmd[pIdx][:end_idx+1]\n",
    "            trimHmd1 = trimHmd1[pIdx][:end_idx+1]\n",
    "            trimEye = trimEye[pIdx][:end_idx+1]\n",
    "            trimEye1 = trimEye1[pIdx][:end_idx+1]\n",
    "            trimGTPos =trimGTPos[pIdx][:end_idx+1]   #pos\n",
    "            trimY = trimY[pIdx][:end_idx+1]         #rel_params\n",
    "\n",
    "            t = t[::5]\n",
    "            trimHmd = trimHmd[::5]  \n",
    "            trimHmd1 = trimHmd1[::5]\n",
    "            trimEye = trimEye[::5]\n",
    "            trimEye1 = trimEye1[::5]   \n",
    "            trimGTPos =trimGTPos[::5]  \n",
    "            trimY = trimY[::5]      \n",
    "            \n",
    "            \n",
    "            t = t[16:]\n",
    "            trimHmd = trimHmd[16:]  \n",
    "            trimHmd1 = trimHmd1[16:]\n",
    "            trimEye = trimEye[16:]\n",
    "            trimEye1 = trimEye1[16:]   \n",
    "            trimGTPos =trimGTPos[16:]  \n",
    "            trimY = trimY[16:] \n",
    "    \n",
    "            #----------plot--------------------------------------\n",
    "            colors = cm.rainbow(np.linspace(0, 1, end_idx)) # 24 subjects\n",
    "        \n",
    "            if len(trimX[pIdx]) == 0:\n",
    "                pos0 = torch.full((20, 3), -1)\n",
    "                pos1 = torch.full((20, 3), -1)\n",
    "                pos_eye_c = torch.full((20, 3), -1)\n",
    "                pos_eye_left = torch.full((20, 3), -1)\n",
    "                pos_eye_right = torch.full((20, 3), -1)\n",
    "            else:\n",
    "                pos0 = hmd_pos_to_hmd1_pos(trimGTPos, trimHmd1) #GT\n",
    "                pos1 = param_to_hmd1_pos(trimY, trimHmd1, trimHmd1) # \n",
    "                pos_eye_c, pos_eye_l, pos_eye_r = hmd_pos_to_eye_pose(trimY, trimHmd, trimHmd1, trimEye, trimEye1)    \n",
    "    \n",
    "    \n",
    "            # pos0 = pos_to_param(pos0)\n",
    "            # pos1 = pos_to_param(pos1)\n",
    "            # pos_eye_c = pos_to_param(pos_eye_c)\n",
    "            # pos_eye_left = pos_to_param(pos_eye_left)\n",
    "            # pos_eye_right = pos_to_param(pos_eye_right)\n",
    "\n",
    "            x0, y0 = pos0[:,0], pos0[:,1]\n",
    "            # x1, y1 = pos1[:,0], pos1[:,1]\n",
    "            x_c, y_c = pos_eye_c[:,0], pos_eye_c[:,1]\n",
    "            # x_l, y_l = pos_eye_left[:,0], pos_eye_left[:,1]\n",
    "            # x_r, y_r = pos_eye_right[:,0], pos_eye_right[:,1]\n",
    "\n",
    "\n",
    "            ax.scatter(x0, y0, c='g', marker='d', label='gts', alpha=0.2)\n",
    "            # ax.scatter(x1, y1, c=color, marker='+', label='ydata', alpha=0.2)\n",
    "            # ax.scatter(x1[-1], y1[-1], c='r', marker='s', alpha=1)\n",
    "            # ax.scatter(x_c, y_c, c=t, cmap=cm.viridis, marker='.', label='comb', alpha=0.01)\n",
    "                        \n",
    "            alphas= np.linspace(0,1,end_idx)\n",
    "            ax.scatter(x_c, y_c, c='red', marker='o', label='comb', alpha=alphas)\n",
    "            # ax.scatter(x_l, y_l, c=color, marker='o', label='left', alpha=0.2)\n",
    "            # ax.scatter(x_r, y_r, c=color, marker='x', label='right', alpha=0.2)\n",
    "\n",
    "            pos1_text = 's' + str(sIdx+1) \n",
    "            # ax.text(x1[-1], y1[-1], pos1_text)\n",
    "            ax.set_xlabel('X (meter)')\n",
    "            ax.set_ylabel('Y (meter)')            \n",
    "            # ax.set_xlabel('H (degree)')\n",
    "            # ax.set_ylabel('V (degree)')    \n",
    "\n",
    "        # SUBJECT LOOP\n",
    "        plt.xlim([-45,45])\n",
    "        plt.ylim([-45,45])\n",
    "        plt.xlim([-2,2])\n",
    "        plt.ylim([-2,2])\n",
    "\n",
    "        plt.grid(color = 'green', linestyle = '--', linewidth = 0.5)        \n",
    "\n",
    "        savename = \"Subject-\" + str(sIdx+1) + '-' + save_name\n",
    "        fig.savefig(savename)\n",
    "        plt.close()\n",
    "        #plt.show()        # plt.legend()\n",
    "    # fig.savefig(savename)\n",
    " "
   ]
  },
  {
   "cell_type": "code",
   "execution_count": 23,
   "id": "10b8a486-39df-4ce9-838d-5c8701293387",
   "metadata": {
    "tags": []
   },
   "outputs": [
    {
     "name": "stderr",
     "output_type": "stream",
     "text": [
      "  0%|                                                                                           | 0/24 [00:00<?, ?it/s]"
     ]
    },
    {
     "name": "stdout",
     "output_type": "stream",
     "text": [
      "[0.5 0.  1.  1. ]\n"
     ]
    },
    {
     "name": "stderr",
     "output_type": "stream",
     "text": [
      "  4%|███▍                                                                               | 1/24 [00:02<01:07,  2.92s/it]"
     ]
    },
    {
     "name": "stdout",
     "output_type": "stream",
     "text": [
      "[0.49215686 0.01231966 0.99998103 1.        ]\n"
     ]
    },
    {
     "name": "stderr",
     "output_type": "stream",
     "text": [
      "  8%|██████▉                                                                            | 2/24 [00:06<01:11,  3.24s/it]"
     ]
    },
    {
     "name": "stdout",
     "output_type": "stream",
     "text": [
      "[0.48431373 0.02463745 0.99992411 1.        ]\n"
     ]
    },
    {
     "name": "stderr",
     "output_type": "stream",
     "text": [
      " 12%|██████████▍                                                                        | 3/24 [00:08<00:59,  2.85s/it]"
     ]
    },
    {
     "name": "stdout",
     "output_type": "stream",
     "text": [
      "[0.46078431 0.06156091 0.99952572 1.        ]\n"
     ]
    },
    {
     "name": "stderr",
     "output_type": "stream",
     "text": [
      " 17%|█████████████▊                                                                     | 4/24 [00:12<01:01,  3.10s/it]"
     ]
    },
    {
     "name": "stdout",
     "output_type": "stream",
     "text": [
      "[0.45294118 0.07385253 0.99931706 1.        ]\n"
     ]
    },
    {
     "name": "stderr",
     "output_type": "stream",
     "text": [
      " 21%|█████████████████▎                                                                 | 5/24 [00:15<00:56,  2.97s/it]"
     ]
    },
    {
     "name": "stdout",
     "output_type": "stream",
     "text": [
      "[0.45294118 0.07385253 0.99931706 1.        ]\n"
     ]
    },
    {
     "name": "stderr",
     "output_type": "stream",
     "text": [
      " 25%|████████████████████▊                                                              | 6/24 [00:16<00:45,  2.55s/it]"
     ]
    },
    {
     "name": "stdout",
     "output_type": "stream",
     "text": [
      "[0.39803922 0.15947579 0.99679532 1.        ]\n"
     ]
    },
    {
     "name": "stderr",
     "output_type": "stream",
     "text": [
      " 29%|████████████████████████▏                                                          | 7/24 [00:21<00:53,  3.12s/it]"
     ]
    },
    {
     "name": "stdout",
     "output_type": "stream",
     "text": [
      "[0.46862745 0.04925994 0.99969645 1.        ]\n"
     ]
    },
    {
     "name": "stderr",
     "output_type": "stream",
     "text": [
      " 33%|███████████████████████████▋                                                       | 8/24 [00:23<00:44,  2.80s/it]"
     ]
    },
    {
     "name": "stdout",
     "output_type": "stream",
     "text": [
      "[0.40588235 0.1473017  0.99726917 1.        ]\n"
     ]
    },
    {
     "name": "stderr",
     "output_type": "stream",
     "text": [
      " 38%|███████████████████████████████▏                                                   | 9/24 [00:25<00:38,  2.59s/it]"
     ]
    },
    {
     "name": "stdout",
     "output_type": "stream",
     "text": [
      "[0.36666667 0.20791169 0.9945219  1.        ]\n"
     ]
    },
    {
     "name": "stderr",
     "output_type": "stream",
     "text": [
      " 42%|██████████████████████████████████▏                                               | 10/24 [00:28<00:37,  2.65s/it]"
     ]
    },
    {
     "name": "stdout",
     "output_type": "stream",
     "text": [
      "[0.39803922 0.15947579 0.99679532 1.        ]\n"
     ]
    },
    {
     "name": "stderr",
     "output_type": "stream",
     "text": [
      " 46%|█████████████████████████████████████▌                                            | 11/24 [00:31<00:37,  2.91s/it]"
     ]
    },
    {
     "name": "stdout",
     "output_type": "stream",
     "text": [
      "[0.42941176 0.11065268 0.9984636  1.        ]\n"
     ]
    },
    {
     "name": "stderr",
     "output_type": "stream",
     "text": [
      " 50%|█████████████████████████████████████████                                         | 12/24 [00:33<00:32,  2.68s/it]"
     ]
    },
    {
     "name": "stdout",
     "output_type": "stream",
     "text": [
      "[0.36666667 0.20791169 0.9945219  1.        ]\n"
     ]
    },
    {
     "name": "stderr",
     "output_type": "stream",
     "text": [
      " 54%|████████████████████████████████████████████▍                                     | 13/24 [00:37<00:31,  2.90s/it]"
     ]
    },
    {
     "name": "stdout",
     "output_type": "stream",
     "text": [
      "[0.41372549 0.13510525 0.99770518 1.        ]\n"
     ]
    },
    {
     "name": "stderr",
     "output_type": "stream",
     "text": [
      " 58%|███████████████████████████████████████████████▊                                  | 14/24 [00:39<00:26,  2.69s/it]"
     ]
    },
    {
     "name": "stdout",
     "output_type": "stream",
     "text": [
      "[0.35882353 0.21994636 0.99385914 1.        ]\n"
     ]
    },
    {
     "name": "stderr",
     "output_type": "stream",
     "text": [
      " 62%|███████████████████████████████████████████████████▎                              | 15/24 [00:42<00:25,  2.86s/it]"
     ]
    },
    {
     "name": "stdout",
     "output_type": "stream",
     "text": [
      "[0.36666667 0.20791169 0.9945219  1.        ]\n"
     ]
    },
    {
     "name": "stderr",
     "output_type": "stream",
     "text": [
      " 67%|██████████████████████████████████████████████████████▋                           | 16/24 [00:44<00:19,  2.48s/it]"
     ]
    },
    {
     "name": "stdout",
     "output_type": "stream",
     "text": [
      "[0.27254902 0.34972651 0.98408634 1.        ]\n"
     ]
    },
    {
     "name": "stderr",
     "output_type": "stream",
     "text": [
      " 71%|██████████████████████████████████████████████████████████                        | 17/24 [00:46<00:17,  2.45s/it]"
     ]
    },
    {
     "name": "stdout",
     "output_type": "stream",
     "text": [
      "[0.27254902 0.34972651 0.98408634 1.        ]\n"
     ]
    },
    {
     "name": "stderr",
     "output_type": "stream",
     "text": [
      " 75%|█████████████████████████████████████████████████████████████▌                    | 18/24 [00:49<00:15,  2.61s/it]"
     ]
    },
    {
     "name": "stdout",
     "output_type": "stream",
     "text": [
      "[0.33529412 0.25584278 0.9916447  1.        ]\n"
     ]
    },
    {
     "name": "stderr",
     "output_type": "stream",
     "text": [
      " 79%|████████████████████████████████████████████████████████████████▉                 | 19/24 [00:52<00:13,  2.63s/it]"
     ]
    },
    {
     "name": "stdout",
     "output_type": "stream",
     "text": [
      "[0.28823529 0.32653871 0.98620075 1.        ]\n"
     ]
    },
    {
     "name": "stderr",
     "output_type": "stream",
     "text": [
      " 83%|████████████████████████████████████████████████████████████████████▎             | 20/24 [00:53<00:09,  2.36s/it]"
     ]
    },
    {
     "name": "stdout",
     "output_type": "stream",
     "text": [
      "[0.14705882 0.52643216 0.96182564 1.        ]\n"
     ]
    },
    {
     "name": "stderr",
     "output_type": "stream",
     "text": [
      " 88%|███████████████████████████████████████████████████████████████████████▊          | 21/24 [00:57<00:07,  2.65s/it]"
     ]
    },
    {
     "name": "stdout",
     "output_type": "stream",
     "text": [
      "[0.29607843 0.31486959 0.98720184 1.        ]\n"
     ]
    },
    {
     "name": "stderr",
     "output_type": "stream",
     "text": [
      " 92%|███████████████████████████████████████████████████████████████████████████▏      | 22/24 [01:00<00:05,  2.84s/it]"
     ]
    },
    {
     "name": "stdout",
     "output_type": "stream",
     "text": [
      "[0.24117647 0.39545121 0.97940977 1.        ]\n"
     ]
    },
    {
     "name": "stderr",
     "output_type": "stream",
     "text": [
      " 96%|██████████████████████████████████████████████████████████████████████████████▌   | 23/24 [01:03<00:02,  2.82s/it]"
     ]
    },
    {
     "name": "stdout",
     "output_type": "stream",
     "text": [
      "[0.24901961 0.38410575 0.98063477 1.        ]\n"
     ]
    },
    {
     "name": "stderr",
     "output_type": "stream",
     "text": [
      "100%|██████████████████████████████████████████████████████████████████████████████████| 24/24 [01:05<00:00,  2.74s/it]\n"
     ]
    },
    {
     "data": {
      "image/png": "[encoded data removed]",
      "text/plain": [
       "<Figure size 640x480 with 1 Axes>"
      ]
     },
     "metadata": {},
     "output_type": "display_data"
    }
   ],
   "source": [
    "draw_features_by_subject_067(file_name, \"067buffer\", ffile, sfile)"
   ]
  },
  {
   "cell_type": "code",
   "execution_count": null,
   "id": "3d5b880a-8bb2-4ba1-8591-5ca46c18426a",
   "metadata": {},
   "outputs": [],
   "source": []
  }
 ],
 "metadata": {
  "kernelspec": {
   "display_name": "Python 3 (ipykernel)",
   "language": "python",
   "name": "python3"
  },
  "language_info": {
   "codemirror_mode": {
    "name": "ipython",
    "version": 3
   },
   "file_extension": ".py",
   "mimetype": "text/x-python",
   "name": "python",
   "nbconvert_exporter": "python",
   "pygments_lexer": "ipython3",
   "version": "3.9.16"
  }
 },
 "nbformat": 4,
 "nbformat_minor": 5
}
