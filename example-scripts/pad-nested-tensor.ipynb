{
 "cells": [
  {
   "cell_type": "markdown",
   "id": "3f9f7d52-b2ab-4ced-becb-039ef492402e",
   "metadata": {},
   "source": [
    "# Pad Nested Tensor (ESSENTIAL)\n",
    "\n",
    "- Tensor의 길이가 달라서 list로 넣었을때\n",
    "- 길이가 다른 tensor를 padding을 이용해서 강제로 동일 길이로 맞출때\n",
    "- 이러한 방법을 쓰면 float나 na값을 tensor에 넣어서 list와 tensor 혼종을 다 tensor로 만들수 있다.\n",
    "\n",
    "- float를 이용한 nesting과 padding\n",
    "https://stackoverflow.com/questions/75104089/how-to-pad-a-tensor\n",
    "https://pytorch.org/docs/stable/nested.html\n",
    "\n",
    "> torch.nested.nested_tensor(list of tensors)\n",
    "\n",
    "> torch.nested.to_padded_tensor(nested tensor)"
   ]
  },
  {
   "cell_type": "code",
   "execution_count": 26,
   "id": "82daea1a-296e-4f66-9f87-90e80412018a",
   "metadata": {
    "tags": []
   },
   "outputs": [
    {
     "name": "stdout",
     "output_type": "stream",
     "text": [
      "1. nested \n",
      " nested_tensor([\n",
      "  tensor([101, 103]),\n",
      "  tensor([ 101, 1045,  223]),\n",
      "  tensor([101, 777, 665, 889]),\n",
      "  tensor([101, 888])\n",
      "])\n",
      "2. nested and padded \n",
      " tensor([[ 101,  103,   -1,   -1],\n",
      "        [ 101, 1045,  223,   -1],\n",
      "        [ 101,  777,  665,  889],\n",
      "        [ 101,  888,   -1,   -1]]) \n",
      " torch.Size([4, 4])\n"
     ]
    }
   ],
   "source": [
    "import torch\n",
    "\n",
    "#=======list[list]] to nested tensor and pad\n",
    "a = [\n",
    "    [101, 103],\n",
    "    [101, 1045, 223],\n",
    "    [101, 777, 665, 889],\n",
    "    [101, 888]\n",
    "]\n",
    "a = torch.nested.nested_tensor(list(map(torch.tensor, a)))\n",
    "print(\"1. nested\", \"\\n\", a)\n",
    "\n",
    "b = torch.nested.to_padded_tensor(a, -1)\n",
    "print(\"2. nested and padded\", \"\\n\", b, \"\\n\", b.shape)"
   ]
  },
  {
   "cell_type": "code",
   "execution_count": 22,
   "id": "68042768-3a60-479b-b162-f37e84a92e9c",
   "metadata": {
    "tags": []
   },
   "outputs": [
    {
     "name": "stdout",
     "output_type": "stream",
     "text": [
      "1. nested \n",
      " nested_tensor([\n",
      "  tensor([[0.5400, 0.7817, 0.5525, 0.4884],\n",
      "          [0.2663, 0.7654, 0.5359, 0.8745],\n",
      "          [0.8788, 0.3291, 0.6083, 0.3404]]),\n",
      "  tensor([[0.6354, 0.4498, 0.9036, 0.7623],\n",
      "          [0.6869, 0.8314, 0.9926, 0.3313],\n",
      "          [0.2413, 0.5132, 0.8960, 0.8628],\n",
      "          [0.5814, 0.9064, 0.8649, 0.0736]]),\n",
      "  tensor([[0.5381, 0.1957, 0.3582, 0.9246],\n",
      "          [0.0223, 0.3679, 0.6802, 0.3811],\n",
      "          [0.5316, 0.0475, 0.2689, 0.3855],\n",
      "          [0.0865, 0.6239, 0.2449, 0.3130],\n",
      "          [0.4752, 0.8533, 0.9366, 0.4470]])\n",
      "])\n",
      "2. nested and padded \n",
      " tensor([[[0.5400, 0.7817, 0.5525, 0.4884],\n",
      "         [0.2663, 0.7654, 0.5359, 0.8745],\n",
      "         [0.8788, 0.3291, 0.6083, 0.3404],\n",
      "         [0.0000, 0.0000, 0.0000, 0.0000],\n",
      "         [0.0000, 0.0000, 0.0000, 0.0000]],\n",
      "\n",
      "        [[0.6354, 0.4498, 0.9036, 0.7623],\n",
      "         [0.6869, 0.8314, 0.9926, 0.3313],\n",
      "         [0.2413, 0.5132, 0.8960, 0.8628],\n",
      "         [0.5814, 0.9064, 0.8649, 0.0736],\n",
      "         [0.0000, 0.0000, 0.0000, 0.0000]],\n",
      "\n",
      "        [[0.5381, 0.1957, 0.3582, 0.9246],\n",
      "         [0.0223, 0.3679, 0.6802, 0.3811],\n",
      "         [0.5316, 0.0475, 0.2689, 0.3855],\n",
      "         [0.0865, 0.6239, 0.2449, 0.3130],\n",
      "         [0.4752, 0.8533, 0.9366, 0.4470]]]) \n",
      " torch.Size([3, 5, 4])\n"
     ]
    }
   ],
   "source": [
    "import torch\n",
    "#=========list[tensor] to nested and pad\n",
    "\n",
    "c = [torch.rand(i,4) for i in (3,4,5)]\n",
    "c = torch.nested.nested_tensor(c)\n",
    "d = torch.nested.to_padded_tensor(c, 0)\n",
    "print(\"1. nested\", \"\\n\", c)\n",
    "print(\"2. nested and padded\", \"\\n\", d, \"\\n\", d.shape)"
   ]
  },
  {
   "cell_type": "code",
   "execution_count": 30,
   "id": "397fc381-b5d6-45ec-a7ab-f815ca1aef07",
   "metadata": {
    "tags": []
   },
   "outputs": [
    {
     "name": "stdout",
     "output_type": "stream",
     "text": [
      "torch.Size([4, 5])\n"
     ]
    }
   ],
   "source": [
    "a = torch.randn(3, 4, 5)\n",
    "b = torch.mean(a, 0)\n",
    "print(b.shape)"
   ]
  },
  {
   "cell_type": "code",
   "execution_count": null,
   "id": "61a8aa7e-b5ef-44f6-a3c2-ed593ca5c321",
   "metadata": {},
   "outputs": [],
   "source": []
  }
 ],
 "metadata": {
  "kernelspec": {
   "display_name": "Python 3 (ipykernel)",
   "language": "python",
   "name": "python3"
  },
  "language_info": {
   "codemirror_mode": {
    "name": "ipython",
    "version": 3
   },
   "file_extension": ".py",
   "mimetype": "text/x-python",
   "name": "python",
   "nbconvert_exporter": "python",
   "pygments_lexer": "ipython3",
   "version": "3.9.16"
  }
 },
 "nbformat": 4,
 "nbformat_minor": 5
}
