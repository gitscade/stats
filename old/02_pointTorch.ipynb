{
 "cells": [
  {
   "cell_type": "code",
   "execution_count": 1,
   "id": "e0f82af8-7712-47ab-b7f5-887c2e25d9d0",
   "metadata": {
    "tags": []
   },
   "outputs": [],
   "source": [
    "import matplotlib.pyplot as plt\n",
    "import seaborn as sns\n",
    "import numpy as np\n",
    "import pandas as pd\n",
    "from mpl_toolkits.mplot3d import Axes3D\n",
    "from matplotlib.colors import ListedColormap"
   ]
  },
  {
   "cell_type": "code",
   "execution_count": 2,
   "id": "22160fbf-3725-48ca-95c7-f7e75b6cd679",
   "metadata": {
    "tags": []
   },
   "outputs": [],
   "source": [
    "params_df = pd.read_csv(\"data/params.csv\",na_values=\" NaN\")\n",
    "params_df = params_df.dropna(how='all', axis=1)"
   ]
  },
  {
   "cell_type": "code",
   "execution_count": 3,
   "id": "46c351c5-c201-424a-b539-a66a38ed7adc",
   "metadata": {
    "tags": []
   },
   "outputs": [
    {
     "name": "stdout",
     "output_type": "stream",
     "text": [
      "    index    d   h   v  d_rad     h_rad     v_rad         x         y  \\\n",
      "0       1  0.9 -30 -20    0.9 -0.523599 -0.349066 -0.422862 -0.266578   \n",
      "1       2  0.9 -30   0    0.9 -0.523599  0.000000 -0.450000  0.000000   \n",
      "2       3  0.9 -30  20    0.9 -0.523599  0.349066 -0.422862  0.266578   \n",
      "3       4  0.9   0 -20    0.9  0.000000 -0.349066  0.000000 -0.307818   \n",
      "4       5  0.9   0   0    0.9  0.000000  0.000000  0.000000  0.000000   \n",
      "5       6  0.9   0  20    0.9  0.000000  0.349066  0.000000  0.307818   \n",
      "6       7  0.9  30 -20    0.9  0.523599 -0.349066  0.422862 -0.266578   \n",
      "7       8  0.9  30   0    0.9  0.523599  0.000000  0.450000  0.000000   \n",
      "8       9  0.9  30  20    0.9  0.523599  0.349066  0.422862  0.266578   \n",
      "9      10  1.7 -30 -20    1.7 -0.523599 -0.349066 -0.798739 -0.503537   \n",
      "10     11  1.7 -30   0    1.7 -0.523599  0.000000 -0.850000  0.000000   \n",
      "11     12  1.7 -30  20    1.7 -0.523599  0.349066 -0.798739  0.503537   \n",
      "12     13  1.7   0 -20    1.7  0.000000 -0.349066  0.000000 -0.581434   \n",
      "13     14  1.7   0   0    1.7  0.000000  0.000000  0.000000  0.000000   \n",
      "14     15  1.7   0  20    1.7  0.000000  0.349066  0.000000  0.581434   \n",
      "15     16  1.7  30 -20    1.7  0.523599 -0.349066  0.798739 -0.503537   \n",
      "16     17  1.7  30   0    1.7  0.523599  0.000000  0.850000  0.000000   \n",
      "17     18  1.7  30  20    1.7  0.523599  0.349066  0.798739  0.503537   \n",
      "18     19  2.5 -30 -20    2.5 -0.523599 -0.349066 -1.174616 -0.740495   \n",
      "19     20  2.5 -30   0    2.5 -0.523599  0.000000 -1.250000  0.000000   \n",
      "20     21  2.5 -30  20    2.5 -0.523599  0.349066 -1.174616  0.740495   \n",
      "21     22  2.5   0 -20    2.5  0.000000 -0.349066  0.000000 -0.855050   \n",
      "22     23  2.5   0   0    2.5  0.000000  0.000000  0.000000  0.000000   \n",
      "23     24  2.5   0  20    2.5  0.000000  0.349066  0.000000  0.855050   \n",
      "24     25  2.5  30 -20    2.5  0.523599 -0.349066  1.174616 -0.740495   \n",
      "25     26  2.5  30   0    2.5  0.523599  0.000000  1.250000  0.000000   \n",
      "26     27  2.5  30  20    2.5  0.523599  0.349066  1.174616  0.740495   \n",
      "27     28  3.3 -30 -20    3.3 -0.523599 -0.349066 -1.550493 -0.977454   \n",
      "28     29  3.3 -30   0    3.3 -0.523599  0.000000 -1.650000  0.000000   \n",
      "29     30  3.3 -30  20    3.3 -0.523599  0.349066 -1.550493  0.977454   \n",
      "30     31  3.3   0 -20    3.3  0.000000 -0.349066  0.000000 -1.128666   \n",
      "31     32  3.3   0   0    3.3  0.000000  0.000000  0.000000  0.000000   \n",
      "32     33  3.3   0  20    3.3  0.000000  0.349066  0.000000  1.128666   \n",
      "33     34  3.3  30 -20    3.3  0.523599 -0.349066  1.550493 -0.977454   \n",
      "34     35  3.3  30   0    3.3  0.523599  0.000000  1.650000  0.000000   \n",
      "35     36  3.3  30  20    3.3  0.523599  0.349066  1.550493  0.977454   \n",
      "\n",
      "           z  \n",
      "0   0.732418  \n",
      "1   0.779423  \n",
      "2   0.732418  \n",
      "3   0.845723  \n",
      "4   0.900000  \n",
      "5   0.845723  \n",
      "6   0.732418  \n",
      "7   0.779423  \n",
      "8   0.732418  \n",
      "9   1.383456  \n",
      "10  1.472243  \n",
      "11  1.383456  \n",
      "12  1.597477  \n",
      "13  1.700000  \n",
      "14  1.597477  \n",
      "15  1.383456  \n",
      "16  1.472243  \n",
      "17  1.383456  \n",
      "18  2.034494  \n",
      "19  2.165064  \n",
      "20  2.034494  \n",
      "21  2.349232  \n",
      "22  2.500000  \n",
      "23  2.349232  \n",
      "24  2.034494  \n",
      "25  2.165064  \n",
      "26  2.034494  \n",
      "27  2.685532  \n",
      "28  2.857884  \n",
      "29  2.685532  \n",
      "30  3.100986  \n",
      "31  3.300000  \n",
      "32  3.100986  \n",
      "33  2.685532  \n",
      "34  2.857884  \n",
      "35  2.685532  \n"
     ]
    }
   ],
   "source": [
    "print(params_df)"
   ]
  },
  {
   "cell_type": "code",
   "execution_count": 14,
   "id": "f377f4fb-ffb6-4c0d-bccd-1eb2f99a5845",
   "metadata": {
    "tags": []
   },
   "outputs": [
    {
     "name": "stdout",
     "output_type": "stream",
     "text": [
      "Using matplotlib backend: QtAgg\n"
     ]
    }
   ],
   "source": [
    "# Param plotting with sns\n",
    "\n",
    "%matplotlib\n",
    "\n",
    "\n",
    "sns.set(style = \"darkgrid\")\n",
    "fig = plt.figure()\n",
    "ax = fig.add_subplot(111, projection = '3d')\n",
    "\n",
    "# swap y and z axis\n",
    "x = params_df['x']\n",
    "y = params_df['z']\n",
    "z = params_df['y']\n",
    "ax.set_xlabel('x (meter)')\n",
    "ax.set_ylabel('z (meter)')\n",
    "ax.set_zlabel('y (meter)')\n",
    "\n",
    "cmap = ListedColormap(sns.color_palette(\"husl\", 256).as_hex())\n",
    "scatter=ax.scatter(x,y,z, cmap=cmap, c=y, alpha=1 )\n",
    "\n",
    "ax.xaxis.set_visible(False)\n",
    "#plt.legend(*scatter.legend_elements(), bbox_to_anchor=(1.05, 1), loc=2)\n",
    "plt.show()"
   ]
  },
  {
   "cell_type": "code",
   "execution_count": null,
   "id": "434e61a6-c063-47c4-b56b-af57fd436540",
   "metadata": {},
   "outputs": [],
   "source": [
    "# Define function for normalizing sequences\n",
    "\n",
    "\n"
   ]
  },
  {
   "cell_type": "code",
   "execution_count": null,
   "id": "efe98dcb-49f7-4595-a725-60a03c1436c7",
   "metadata": {},
   "outputs": [],
   "source": [
    "# Error plotting with sns\n",
    "\n"
   ]
  }
 ],
 "metadata": {
  "kernelspec": {
   "display_name": "Python 3 (ipykernel)",
   "language": "python",
   "name": "python3"
  },
  "language_info": {
   "codemirror_mode": {
    "name": "ipython",
    "version": 3
   },
   "file_extension": ".py",
   "mimetype": "text/x-python",
   "name": "python",
   "nbconvert_exporter": "python",
   "pygments_lexer": "ipython3",
   "version": "3.9.16"
  }
 },
 "nbformat": 4,
 "nbformat_minor": 5
}
