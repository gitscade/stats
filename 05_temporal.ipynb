{
 "cells": [
  {
   "cell_type": "code",
   "execution_count": null,
   "id": "68ef669c-1fa6-441a-8490-5f6ac22f4932",
   "metadata": {},
   "outputs": [],
   "source": [
    "# temporal behaviors of velocities with confidence intervals\n",
    "\n",
    "import os, csv, pickle, gzip, torch\n",
    "import torch\n",
    "import matplotlib.pyplot as plt\n",
    "import seaborn as sns\n",
    "import numpy as np\n",
    "import pandas as pd\n",
    "from scipy.spatial.transform import Rotation as R\n",
    "\n",
    "%matplotlib notebook\n",
    "%matplotlib inline\n",
    "from tqdm import tqdm\n",
    "from functools import partial\n",
    "from matplotlib.animation import FuncAnimation\n",
    "from matplotlib.animation import PillowWriter\n",
    "from mpl_toolkits.mplot3d import Axes3D\n",
    "from matplotlib.colors import ListedColormap\n",
    "from matplotlib import rc\n",
    "import matplotlib.cm as cm\n",
    "from matplotlib.collections import LineCollection"
   ]
  },
  {
   "cell_type": "code",
   "execution_count": null,
   "id": "0e0f16c6-4d85-42cc-b8f2-52a49e5f8691",
   "metadata": {},
   "outputs": [],
   "source": []
  },
  {
   "cell_type": "code",
   "execution_count": null,
   "id": "eb4822dd-1e75-4346-b036-bb7de44a96ad",
   "metadata": {},
   "outputs": [],
   "source": []
  },
  {
   "cell_type": "code",
   "execution_count": null,
   "id": "ee488179-acb1-44b1-b937-53a6d151d862",
   "metadata": {},
   "outputs": [],
   "source": []
  },
  {
   "cell_type": "code",
   "execution_count": null,
   "id": "56860037-a8f0-4fe2-a1df-2fe67bce0c2d",
   "metadata": {},
   "outputs": [],
   "source": [
    "# https://www.youtube.com/watch?v=4I2ifomFOec\n",
    "# https://stackoverflow.com/questions/71916767/how-to-plot-confidence-interval-of-a-time-series-data-in-python\n",
    "# to plot 95% confidence intervals you need to account for 2*sigma range\n",
    "\n",
    "# ONE GRAPH 95% confidence\n",
    "import numpy as np\n",
    "import matplotlib.pyplot as plt\n",
    "import scipy.stats\n",
    "\n",
    "# https://stackoverflow.com/questions/15033511/compute-a-confidence-interval-from-sample-data\n",
    "def mean_confidence_interval(data, confidence=0.95):\n",
    "    a = 1.0 * np.array(data)\n",
    "    n = len(a)\n",
    "    m, se = np.mean(a), scipy.stats.sem(a)\n",
    "    h = se * scipy.stats.t.ppf((1 + confidence) / 2., n-1)\n",
    "    return m, m-h, m+h\n",
    "\n",
    "mean, lower, upper = [],[],[]\n",
    "c = 0.95\n",
    "for i in range (20):\n",
    "    a = np.random.rand(100) # this is the output\n",
    "    m, ml, mu = mean_confidence_interval(a, c)\n",
    "    mean.append(m)\n",
    "    lower.append(ml)\n",
    "    upper.append(mu)\n",
    "\n",
    "plt.figure()\n",
    "plt.plot(mean,'-b', label='mean')\n",
    "plt.plot(upper,'r:', label='upper')\n",
    "plt.plot(lower,'g:', label='lower')\n",
    "# fill the area with black color, opacity 0.15\n",
    "plt.fill_between(list(range(len(mean))), upper, lower, color=\"k\", alpha=0.15)\n",
    "\n",
    "plt.xlabel(\"Value\")\n",
    "plt.ylabel(\"Loss\")\n",
    "plt.legend()"
   ]
  }
 ],
 "metadata": {
  "kernelspec": {
   "display_name": "Python 3 (ipykernel)",
   "language": "python",
   "name": "python3"
  },
  "language_info": {
   "codemirror_mode": {
    "name": "ipython",
    "version": 3
   },
   "file_extension": ".py",
   "mimetype": "text/x-python",
   "name": "python",
   "nbconvert_exporter": "python",
   "pygments_lexer": "ipython3",
   "version": "3.9.16"
  }
 },
 "nbformat": 4,
 "nbformat_minor": 5
}
